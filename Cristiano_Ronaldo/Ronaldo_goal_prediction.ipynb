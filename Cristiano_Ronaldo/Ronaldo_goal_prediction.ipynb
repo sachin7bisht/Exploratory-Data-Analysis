{
  "nbformat": 4,
  "nbformat_minor": 0,
  "metadata": {
    "colab": {
      "name": "Colab_25GBRAM_GPU Techhawa.ipynb",
      "provenance": [],
      "collapsed_sections": [],
      "machine_shape": "hm"
    },
    "kernelspec": {
      "name": "python3",
      "display_name": "Python 3"
    },
    "accelerator": "GPU"
  },
  "cells": [
    {
      "cell_type": "code",
      "metadata": {
        "id": "WJYbaQtVx6Uv"
      },
      "source": [
        "# importing the necessary libraries\n",
        "import pandas as pd\n",
        "import numpy as np\n",
        "\n",
        "import random\n",
        "import warnings\n",
        "warnings.filterwarnings('ignore')\n",
        "\n",
        "\n",
        "from sklearn.model_selection import train_test_split\n",
        "from sklearn.metrics import mean_absolute_error"
      ],
      "execution_count": 2,
      "outputs": []
    },
    {
      "cell_type": "code",
      "metadata": {
        "id": "EqACtQyTx_Km"
      },
      "source": [
        "data=pd.read_csv('/content/yds_data.csv')"
      ],
      "execution_count": 65,
      "outputs": []
    },
    {
      "cell_type": "code",
      "metadata": {
        "id": "jR5AieVtyGGk",
        "outputId": "2b29263c-bd45-40c7-d76e-b054441a4824",
        "colab": {
          "base_uri": "https://localhost:8080/",
          "height": 326
        }
      },
      "source": [
        "data.head()"
      ],
      "execution_count": 66,
      "outputs": [
        {
          "output_type": "execute_result",
          "data": {
            "text/html": [
              "<div>\n",
              "<style scoped>\n",
              "    .dataframe tbody tr th:only-of-type {\n",
              "        vertical-align: middle;\n",
              "    }\n",
              "\n",
              "    .dataframe tbody tr th {\n",
              "        vertical-align: top;\n",
              "    }\n",
              "\n",
              "    .dataframe thead th {\n",
              "        text-align: right;\n",
              "    }\n",
              "</style>\n",
              "<table border=\"1\" class=\"dataframe\">\n",
              "  <thead>\n",
              "    <tr style=\"text-align: right;\">\n",
              "      <th></th>\n",
              "      <th>Unnamed: 0</th>\n",
              "      <th>match_event_id</th>\n",
              "      <th>location_x</th>\n",
              "      <th>location_y</th>\n",
              "      <th>remaining_min</th>\n",
              "      <th>power_of_shot</th>\n",
              "      <th>knockout_match</th>\n",
              "      <th>game_season</th>\n",
              "      <th>remaining_sec</th>\n",
              "      <th>distance_of_shot</th>\n",
              "      <th>is_goal</th>\n",
              "      <th>area_of_shot</th>\n",
              "      <th>shot_basics</th>\n",
              "      <th>range_of_shot</th>\n",
              "      <th>team_name</th>\n",
              "      <th>date_of_game</th>\n",
              "      <th>home/away</th>\n",
              "      <th>shot_id_number</th>\n",
              "      <th>lat/lng</th>\n",
              "      <th>type_of_shot</th>\n",
              "      <th>type_of_combined_shot</th>\n",
              "      <th>match_id</th>\n",
              "      <th>team_id</th>\n",
              "      <th>remaining_min.1</th>\n",
              "      <th>power_of_shot.1</th>\n",
              "      <th>knockout_match.1</th>\n",
              "      <th>remaining_sec.1</th>\n",
              "      <th>distance_of_shot.1</th>\n",
              "    </tr>\n",
              "  </thead>\n",
              "  <tbody>\n",
              "    <tr>\n",
              "      <th>0</th>\n",
              "      <td>0</td>\n",
              "      <td>10.0</td>\n",
              "      <td>167.0</td>\n",
              "      <td>72.0</td>\n",
              "      <td>10.0</td>\n",
              "      <td>1.0</td>\n",
              "      <td>0.0</td>\n",
              "      <td>2000-01</td>\n",
              "      <td>27.0</td>\n",
              "      <td>38.0</td>\n",
              "      <td>NaN</td>\n",
              "      <td>Right Side(R)</td>\n",
              "      <td>Mid Range</td>\n",
              "      <td>16-24 ft.</td>\n",
              "      <td>Manchester United</td>\n",
              "      <td>2000-10-31</td>\n",
              "      <td>MANU @ POR</td>\n",
              "      <td>1.0</td>\n",
              "      <td>45.539131, -122.651648</td>\n",
              "      <td>shot - 30</td>\n",
              "      <td>NaN</td>\n",
              "      <td>20000012</td>\n",
              "      <td>1610612747</td>\n",
              "      <td>10.00</td>\n",
              "      <td>1.0</td>\n",
              "      <td>50.608</td>\n",
              "      <td>54.2000</td>\n",
              "      <td>38.0</td>\n",
              "    </tr>\n",
              "    <tr>\n",
              "      <th>1</th>\n",
              "      <td>1</td>\n",
              "      <td>12.0</td>\n",
              "      <td>-157.0</td>\n",
              "      <td>0.0</td>\n",
              "      <td>10.0</td>\n",
              "      <td>1.0</td>\n",
              "      <td>0.0</td>\n",
              "      <td>2000-01</td>\n",
              "      <td>22.0</td>\n",
              "      <td>35.0</td>\n",
              "      <td>0.0</td>\n",
              "      <td>Left Side(L)</td>\n",
              "      <td>Mid Range</td>\n",
              "      <td>8-16 ft.</td>\n",
              "      <td>Manchester United</td>\n",
              "      <td>2000-10-31</td>\n",
              "      <td>MANU @ POR</td>\n",
              "      <td>2.0</td>\n",
              "      <td>45.539131, -122.651648</td>\n",
              "      <td>shot - 45</td>\n",
              "      <td>NaN</td>\n",
              "      <td>20000012</td>\n",
              "      <td>1610612747</td>\n",
              "      <td>10.00</td>\n",
              "      <td>1.0</td>\n",
              "      <td>28.800</td>\n",
              "      <td>22.0000</td>\n",
              "      <td>35.0</td>\n",
              "    </tr>\n",
              "    <tr>\n",
              "      <th>2</th>\n",
              "      <td>2</td>\n",
              "      <td>35.0</td>\n",
              "      <td>-101.0</td>\n",
              "      <td>135.0</td>\n",
              "      <td>7.0</td>\n",
              "      <td>1.0</td>\n",
              "      <td>0.0</td>\n",
              "      <td>2000-01</td>\n",
              "      <td>45.0</td>\n",
              "      <td>36.0</td>\n",
              "      <td>1.0</td>\n",
              "      <td>Left Side Center(LC)</td>\n",
              "      <td>Mid Range</td>\n",
              "      <td>16-24 ft.</td>\n",
              "      <td>Manchester United</td>\n",
              "      <td>2000-10-31</td>\n",
              "      <td>NaN</td>\n",
              "      <td>3.0</td>\n",
              "      <td>45.539131, -122.651648</td>\n",
              "      <td>shot - 25</td>\n",
              "      <td>NaN</td>\n",
              "      <td>20000012</td>\n",
              "      <td>1610612747</td>\n",
              "      <td>92.64</td>\n",
              "      <td>1.0</td>\n",
              "      <td>0.000</td>\n",
              "      <td>63.7216</td>\n",
              "      <td>54.4</td>\n",
              "    </tr>\n",
              "    <tr>\n",
              "      <th>3</th>\n",
              "      <td>3</td>\n",
              "      <td>43.0</td>\n",
              "      <td>138.0</td>\n",
              "      <td>175.0</td>\n",
              "      <td>6.0</td>\n",
              "      <td>1.0</td>\n",
              "      <td>0.0</td>\n",
              "      <td>2000-01</td>\n",
              "      <td>52.0</td>\n",
              "      <td>42.0</td>\n",
              "      <td>0.0</td>\n",
              "      <td>Right Side Center(RC)</td>\n",
              "      <td>Mid Range</td>\n",
              "      <td>16-24 ft.</td>\n",
              "      <td>Manchester United</td>\n",
              "      <td>2000-10-31</td>\n",
              "      <td>MANU @ POR</td>\n",
              "      <td>4.0</td>\n",
              "      <td>45.539131, -122.651648</td>\n",
              "      <td>NaN</td>\n",
              "      <td>shot - 3</td>\n",
              "      <td>20000012</td>\n",
              "      <td>1610612747</td>\n",
              "      <td>NaN</td>\n",
              "      <td>1.0</td>\n",
              "      <td>122.608</td>\n",
              "      <td>52.0000</td>\n",
              "      <td>42.0</td>\n",
              "    </tr>\n",
              "    <tr>\n",
              "      <th>4</th>\n",
              "      <td>4</td>\n",
              "      <td>155.0</td>\n",
              "      <td>0.0</td>\n",
              "      <td>0.0</td>\n",
              "      <td>NaN</td>\n",
              "      <td>2.0</td>\n",
              "      <td>0.0</td>\n",
              "      <td>2000-01</td>\n",
              "      <td>19.0</td>\n",
              "      <td>20.0</td>\n",
              "      <td>1.0</td>\n",
              "      <td>Center(C)</td>\n",
              "      <td>Goal Area</td>\n",
              "      <td>Less Than 8 ft.</td>\n",
              "      <td>NaN</td>\n",
              "      <td>2000-10-31</td>\n",
              "      <td>MANU @ POR</td>\n",
              "      <td>5.0</td>\n",
              "      <td>45.539131, -122.651648</td>\n",
              "      <td>NaN</td>\n",
              "      <td>shot - 1</td>\n",
              "      <td>20000012</td>\n",
              "      <td>1610612747</td>\n",
              "      <td>42.64</td>\n",
              "      <td>2.0</td>\n",
              "      <td>0.000</td>\n",
              "      <td>19.0000</td>\n",
              "      <td>20.0</td>\n",
              "    </tr>\n",
              "  </tbody>\n",
              "</table>\n",
              "</div>"
            ],
            "text/plain": [
              "   Unnamed: 0  match_event_id  ...  remaining_sec.1  distance_of_shot.1\n",
              "0           0            10.0  ...          54.2000                38.0\n",
              "1           1            12.0  ...          22.0000                35.0\n",
              "2           2            35.0  ...          63.7216                54.4\n",
              "3           3            43.0  ...          52.0000                42.0\n",
              "4           4           155.0  ...          19.0000                20.0\n",
              "\n",
              "[5 rows x 28 columns]"
            ]
          },
          "metadata": {
            "tags": []
          },
          "execution_count": 66
        }
      ]
    },
    {
      "cell_type": "code",
      "metadata": {
        "id": "7IPfsnp1yOIe",
        "outputId": "a8d1c257-7ebf-4334-ad86-fcc2977a2008",
        "colab": {
          "base_uri": "https://localhost:8080/"
        }
      },
      "source": [
        "data.shape"
      ],
      "execution_count": 67,
      "outputs": [
        {
          "output_type": "execute_result",
          "data": {
            "text/plain": [
              "(30697, 28)"
            ]
          },
          "metadata": {
            "tags": []
          },
          "execution_count": 67
        }
      ]
    },
    {
      "cell_type": "code",
      "metadata": {
        "id": "ThL2KgY5yPjz",
        "outputId": "e0f33d92-0e3b-4259-fe20-29bebab28736",
        "colab": {
          "base_uri": "https://localhost:8080/",
          "height": 317
        }
      },
      "source": [
        "#data preprocessing\n",
        "data.describe()"
      ],
      "execution_count": 68,
      "outputs": [
        {
          "output_type": "execute_result",
          "data": {
            "text/html": [
              "<div>\n",
              "<style scoped>\n",
              "    .dataframe tbody tr th:only-of-type {\n",
              "        vertical-align: middle;\n",
              "    }\n",
              "\n",
              "    .dataframe tbody tr th {\n",
              "        vertical-align: top;\n",
              "    }\n",
              "\n",
              "    .dataframe thead th {\n",
              "        text-align: right;\n",
              "    }\n",
              "</style>\n",
              "<table border=\"1\" class=\"dataframe\">\n",
              "  <thead>\n",
              "    <tr style=\"text-align: right;\">\n",
              "      <th></th>\n",
              "      <th>Unnamed: 0</th>\n",
              "      <th>match_event_id</th>\n",
              "      <th>location_x</th>\n",
              "      <th>location_y</th>\n",
              "      <th>remaining_min</th>\n",
              "      <th>power_of_shot</th>\n",
              "      <th>knockout_match</th>\n",
              "      <th>remaining_sec</th>\n",
              "      <th>distance_of_shot</th>\n",
              "      <th>is_goal</th>\n",
              "      <th>shot_id_number</th>\n",
              "      <th>match_id</th>\n",
              "      <th>team_id</th>\n",
              "      <th>remaining_min.1</th>\n",
              "      <th>power_of_shot.1</th>\n",
              "      <th>knockout_match.1</th>\n",
              "      <th>remaining_sec.1</th>\n",
              "      <th>distance_of_shot.1</th>\n",
              "    </tr>\n",
              "  </thead>\n",
              "  <tbody>\n",
              "    <tr>\n",
              "      <th>count</th>\n",
              "      <td>30697.000000</td>\n",
              "      <td>29134.000000</td>\n",
              "      <td>29236.000000</td>\n",
              "      <td>29157.000000</td>\n",
              "      <td>29135.000000</td>\n",
              "      <td>29211.000000</td>\n",
              "      <td>29180.000000</td>\n",
              "      <td>29103.000000</td>\n",
              "      <td>29130.000000</td>\n",
              "      <td>24429.000000</td>\n",
              "      <td>29134.000000</td>\n",
              "      <td>3.069700e+04</td>\n",
              "      <td>3.069700e+04</td>\n",
              "      <td>29162.000000</td>\n",
              "      <td>29158.000000</td>\n",
              "      <td>29204.000000</td>\n",
              "      <td>29158.000000</td>\n",
              "      <td>29129.000000</td>\n",
              "    </tr>\n",
              "    <tr>\n",
              "      <th>mean</th>\n",
              "      <td>15348.000000</td>\n",
              "      <td>249.576028</td>\n",
              "      <td>7.383876</td>\n",
              "      <td>91.126933</td>\n",
              "      <td>4.883233</td>\n",
              "      <td>2.519359</td>\n",
              "      <td>0.145956</td>\n",
              "      <td>28.329382</td>\n",
              "      <td>33.448884</td>\n",
              "      <td>0.445331</td>\n",
              "      <td>15368.581039</td>\n",
              "      <td>2.476407e+07</td>\n",
              "      <td>1.610613e+09</td>\n",
              "      <td>18.204615</td>\n",
              "      <td>15.994109</td>\n",
              "      <td>16.599402</td>\n",
              "      <td>39.027303</td>\n",
              "      <td>38.801852</td>\n",
              "    </tr>\n",
              "    <tr>\n",
              "      <th>std</th>\n",
              "      <td>8861.604943</td>\n",
              "      <td>150.186019</td>\n",
              "      <td>110.263049</td>\n",
              "      <td>87.676395</td>\n",
              "      <td>3.452533</td>\n",
              "      <td>1.153976</td>\n",
              "      <td>0.353068</td>\n",
              "      <td>17.470663</td>\n",
              "      <td>9.369656</td>\n",
              "      <td>0.497013</td>\n",
              "      <td>8866.520772</td>\n",
              "      <td>7.755175e+06</td>\n",
              "      <td>0.000000e+00</td>\n",
              "      <td>29.416973</td>\n",
              "      <td>29.676815</td>\n",
              "      <td>35.172016</td>\n",
              "      <td>29.835284</td>\n",
              "      <td>18.787711</td>\n",
              "    </tr>\n",
              "    <tr>\n",
              "      <th>min</th>\n",
              "      <td>0.000000</td>\n",
              "      <td>2.000000</td>\n",
              "      <td>-250.000000</td>\n",
              "      <td>-44.000000</td>\n",
              "      <td>0.000000</td>\n",
              "      <td>1.000000</td>\n",
              "      <td>0.000000</td>\n",
              "      <td>0.000000</td>\n",
              "      <td>20.000000</td>\n",
              "      <td>0.000000</td>\n",
              "      <td>1.000000</td>\n",
              "      <td>2.000001e+07</td>\n",
              "      <td>1.610613e+09</td>\n",
              "      <td>0.000000</td>\n",
              "      <td>1.000000</td>\n",
              "      <td>0.000000</td>\n",
              "      <td>0.000000</td>\n",
              "      <td>9.400000</td>\n",
              "    </tr>\n",
              "    <tr>\n",
              "      <th>25%</th>\n",
              "      <td>7674.000000</td>\n",
              "      <td>111.000000</td>\n",
              "      <td>-68.000000</td>\n",
              "      <td>4.000000</td>\n",
              "      <td>2.000000</td>\n",
              "      <td>1.000000</td>\n",
              "      <td>0.000000</td>\n",
              "      <td>13.000000</td>\n",
              "      <td>25.000000</td>\n",
              "      <td>0.000000</td>\n",
              "      <td>7693.250000</td>\n",
              "      <td>2.050008e+07</td>\n",
              "      <td>1.610613e+09</td>\n",
              "      <td>3.000000</td>\n",
              "      <td>2.000000</td>\n",
              "      <td>0.000000</td>\n",
              "      <td>17.000000</td>\n",
              "      <td>26.000000</td>\n",
              "    </tr>\n",
              "    <tr>\n",
              "      <th>50%</th>\n",
              "      <td>15348.000000</td>\n",
              "      <td>254.000000</td>\n",
              "      <td>0.000000</td>\n",
              "      <td>74.000000</td>\n",
              "      <td>5.000000</td>\n",
              "      <td>3.000000</td>\n",
              "      <td>0.000000</td>\n",
              "      <td>28.000000</td>\n",
              "      <td>35.000000</td>\n",
              "      <td>0.000000</td>\n",
              "      <td>15378.500000</td>\n",
              "      <td>2.090035e+07</td>\n",
              "      <td>1.610613e+09</td>\n",
              "      <td>6.000000</td>\n",
              "      <td>3.000000</td>\n",
              "      <td>0.000000</td>\n",
              "      <td>35.000000</td>\n",
              "      <td>36.000000</td>\n",
              "    </tr>\n",
              "    <tr>\n",
              "      <th>75%</th>\n",
              "      <td>23022.000000</td>\n",
              "      <td>369.000000</td>\n",
              "      <td>95.000000</td>\n",
              "      <td>160.000000</td>\n",
              "      <td>8.000000</td>\n",
              "      <td>3.000000</td>\n",
              "      <td>0.000000</td>\n",
              "      <td>43.000000</td>\n",
              "      <td>41.000000</td>\n",
              "      <td>1.000000</td>\n",
              "      <td>23055.750000</td>\n",
              "      <td>2.960047e+07</td>\n",
              "      <td>1.610613e+09</td>\n",
              "      <td>11.000000</td>\n",
              "      <td>4.000000</td>\n",
              "      <td>1.000000</td>\n",
              "      <td>52.000000</td>\n",
              "      <td>44.000000</td>\n",
              "    </tr>\n",
              "    <tr>\n",
              "      <th>max</th>\n",
              "      <td>30696.000000</td>\n",
              "      <td>659.000000</td>\n",
              "      <td>248.000000</td>\n",
              "      <td>791.000000</td>\n",
              "      <td>11.000000</td>\n",
              "      <td>7.000000</td>\n",
              "      <td>1.000000</td>\n",
              "      <td>59.000000</td>\n",
              "      <td>99.000000</td>\n",
              "      <td>1.000000</td>\n",
              "      <td>30697.000000</td>\n",
              "      <td>4.990009e+07</td>\n",
              "      <td>1.610613e+09</td>\n",
              "      <td>128.761600</td>\n",
              "      <td>118.360000</td>\n",
              "      <td>141.352320</td>\n",
              "      <td>144.785600</td>\n",
              "      <td>115.728000</td>\n",
              "    </tr>\n",
              "  </tbody>\n",
              "</table>\n",
              "</div>"
            ],
            "text/plain": [
              "         Unnamed: 0  match_event_id  ...  remaining_sec.1  distance_of_shot.1\n",
              "count  30697.000000    29134.000000  ...     29158.000000        29129.000000\n",
              "mean   15348.000000      249.576028  ...        39.027303           38.801852\n",
              "std     8861.604943      150.186019  ...        29.835284           18.787711\n",
              "min        0.000000        2.000000  ...         0.000000            9.400000\n",
              "25%     7674.000000      111.000000  ...        17.000000           26.000000\n",
              "50%    15348.000000      254.000000  ...        35.000000           36.000000\n",
              "75%    23022.000000      369.000000  ...        52.000000           44.000000\n",
              "max    30696.000000      659.000000  ...       144.785600          115.728000\n",
              "\n",
              "[8 rows x 18 columns]"
            ]
          },
          "metadata": {
            "tags": []
          },
          "execution_count": 68
        }
      ]
    },
    {
      "cell_type": "code",
      "metadata": {
        "id": "NYAxEq70yldD",
        "outputId": "f64909ee-0ce6-4ee1-8092-9149c9887fa2",
        "colab": {
          "base_uri": "https://localhost:8080/"
        }
      },
      "source": [
        "#data type of features\n",
        "data.info()"
      ],
      "execution_count": 69,
      "outputs": [
        {
          "output_type": "stream",
          "text": [
            "<class 'pandas.core.frame.DataFrame'>\n",
            "RangeIndex: 30697 entries, 0 to 30696\n",
            "Data columns (total 28 columns):\n",
            " #   Column                 Non-Null Count  Dtype  \n",
            "---  ------                 --------------  -----  \n",
            " 0   Unnamed: 0             30697 non-null  int64  \n",
            " 1   match_event_id         29134 non-null  float64\n",
            " 2   location_x             29236 non-null  float64\n",
            " 3   location_y             29157 non-null  float64\n",
            " 4   remaining_min          29135 non-null  float64\n",
            " 5   power_of_shot          29211 non-null  float64\n",
            " 6   knockout_match         29180 non-null  float64\n",
            " 7   game_season            24835 non-null  object \n",
            " 8   remaining_sec          29103 non-null  float64\n",
            " 9   distance_of_shot       29130 non-null  float64\n",
            " 10  is_goal                24429 non-null  float64\n",
            " 11  area_of_shot           29195 non-null  object \n",
            " 12  shot_basics            29122 non-null  object \n",
            " 13  range_of_shot          29133 non-null  object \n",
            " 14  team_name              29162 non-null  object \n",
            " 15  date_of_game           29147 non-null  object \n",
            " 16  home/away              29200 non-null  object \n",
            " 17  shot_id_number         29134 non-null  float64\n",
            " 18  lat/lng                29132 non-null  object \n",
            " 19  type_of_shot           15417 non-null  object \n",
            " 20  type_of_combined_shot  15280 non-null  object \n",
            " 21  match_id               30697 non-null  int64  \n",
            " 22  team_id                30697 non-null  int64  \n",
            " 23  remaining_min.1        29162 non-null  float64\n",
            " 24  power_of_shot.1        29158 non-null  float64\n",
            " 25  knockout_match.1       29204 non-null  float64\n",
            " 26  remaining_sec.1        29158 non-null  float64\n",
            " 27  distance_of_shot.1     29129 non-null  float64\n",
            "dtypes: float64(15), int64(3), object(10)\n",
            "memory usage: 6.6+ MB\n"
          ],
          "name": "stdout"
        }
      ]
    },
    {
      "cell_type": "code",
      "metadata": {
        "id": "5YpR4qY0yr_e",
        "outputId": "382d25d6-9f8b-4479-a9d5-e6659ba819dc",
        "colab": {
          "base_uri": "https://localhost:8080/",
          "height": 917
        }
      },
      "source": [
        "#checking the null values\n",
        "missing=pd.DataFrame({'null value':data.isnull().sum(),'percentage':(data.isnull().sum()/data.shape[0])*100})\n",
        "missing.sort_values(['percentage'])"
      ],
      "execution_count": 70,
      "outputs": [
        {
          "output_type": "execute_result",
          "data": {
            "text/html": [
              "<div>\n",
              "<style scoped>\n",
              "    .dataframe tbody tr th:only-of-type {\n",
              "        vertical-align: middle;\n",
              "    }\n",
              "\n",
              "    .dataframe tbody tr th {\n",
              "        vertical-align: top;\n",
              "    }\n",
              "\n",
              "    .dataframe thead th {\n",
              "        text-align: right;\n",
              "    }\n",
              "</style>\n",
              "<table border=\"1\" class=\"dataframe\">\n",
              "  <thead>\n",
              "    <tr style=\"text-align: right;\">\n",
              "      <th></th>\n",
              "      <th>null value</th>\n",
              "      <th>percentage</th>\n",
              "    </tr>\n",
              "  </thead>\n",
              "  <tbody>\n",
              "    <tr>\n",
              "      <th>Unnamed: 0</th>\n",
              "      <td>0</td>\n",
              "      <td>0.000000</td>\n",
              "    </tr>\n",
              "    <tr>\n",
              "      <th>match_id</th>\n",
              "      <td>0</td>\n",
              "      <td>0.000000</td>\n",
              "    </tr>\n",
              "    <tr>\n",
              "      <th>team_id</th>\n",
              "      <td>0</td>\n",
              "      <td>0.000000</td>\n",
              "    </tr>\n",
              "    <tr>\n",
              "      <th>location_x</th>\n",
              "      <td>1461</td>\n",
              "      <td>4.759423</td>\n",
              "    </tr>\n",
              "    <tr>\n",
              "      <th>power_of_shot</th>\n",
              "      <td>1486</td>\n",
              "      <td>4.840864</td>\n",
              "    </tr>\n",
              "    <tr>\n",
              "      <th>knockout_match.1</th>\n",
              "      <td>1493</td>\n",
              "      <td>4.863667</td>\n",
              "    </tr>\n",
              "    <tr>\n",
              "      <th>home/away</th>\n",
              "      <td>1497</td>\n",
              "      <td>4.876698</td>\n",
              "    </tr>\n",
              "    <tr>\n",
              "      <th>area_of_shot</th>\n",
              "      <td>1502</td>\n",
              "      <td>4.892986</td>\n",
              "    </tr>\n",
              "    <tr>\n",
              "      <th>knockout_match</th>\n",
              "      <td>1517</td>\n",
              "      <td>4.941851</td>\n",
              "    </tr>\n",
              "    <tr>\n",
              "      <th>team_name</th>\n",
              "      <td>1535</td>\n",
              "      <td>5.000489</td>\n",
              "    </tr>\n",
              "    <tr>\n",
              "      <th>remaining_min.1</th>\n",
              "      <td>1535</td>\n",
              "      <td>5.000489</td>\n",
              "    </tr>\n",
              "    <tr>\n",
              "      <th>remaining_sec.1</th>\n",
              "      <td>1539</td>\n",
              "      <td>5.013519</td>\n",
              "    </tr>\n",
              "    <tr>\n",
              "      <th>power_of_shot.1</th>\n",
              "      <td>1539</td>\n",
              "      <td>5.013519</td>\n",
              "    </tr>\n",
              "    <tr>\n",
              "      <th>location_y</th>\n",
              "      <td>1540</td>\n",
              "      <td>5.016777</td>\n",
              "    </tr>\n",
              "    <tr>\n",
              "      <th>date_of_game</th>\n",
              "      <td>1550</td>\n",
              "      <td>5.049353</td>\n",
              "    </tr>\n",
              "    <tr>\n",
              "      <th>remaining_min</th>\n",
              "      <td>1562</td>\n",
              "      <td>5.088445</td>\n",
              "    </tr>\n",
              "    <tr>\n",
              "      <th>match_event_id</th>\n",
              "      <td>1563</td>\n",
              "      <td>5.091703</td>\n",
              "    </tr>\n",
              "    <tr>\n",
              "      <th>shot_id_number</th>\n",
              "      <td>1563</td>\n",
              "      <td>5.091703</td>\n",
              "    </tr>\n",
              "    <tr>\n",
              "      <th>range_of_shot</th>\n",
              "      <td>1564</td>\n",
              "      <td>5.094960</td>\n",
              "    </tr>\n",
              "    <tr>\n",
              "      <th>lat/lng</th>\n",
              "      <td>1565</td>\n",
              "      <td>5.098218</td>\n",
              "    </tr>\n",
              "    <tr>\n",
              "      <th>distance_of_shot</th>\n",
              "      <td>1567</td>\n",
              "      <td>5.104733</td>\n",
              "    </tr>\n",
              "    <tr>\n",
              "      <th>distance_of_shot.1</th>\n",
              "      <td>1568</td>\n",
              "      <td>5.107991</td>\n",
              "    </tr>\n",
              "    <tr>\n",
              "      <th>shot_basics</th>\n",
              "      <td>1575</td>\n",
              "      <td>5.130795</td>\n",
              "    </tr>\n",
              "    <tr>\n",
              "      <th>remaining_sec</th>\n",
              "      <td>1594</td>\n",
              "      <td>5.192690</td>\n",
              "    </tr>\n",
              "    <tr>\n",
              "      <th>game_season</th>\n",
              "      <td>5862</td>\n",
              "      <td>19.096329</td>\n",
              "    </tr>\n",
              "    <tr>\n",
              "      <th>is_goal</th>\n",
              "      <td>6268</td>\n",
              "      <td>20.418933</td>\n",
              "    </tr>\n",
              "    <tr>\n",
              "      <th>type_of_shot</th>\n",
              "      <td>15280</td>\n",
              "      <td>49.776851</td>\n",
              "    </tr>\n",
              "    <tr>\n",
              "      <th>type_of_combined_shot</th>\n",
              "      <td>15417</td>\n",
              "      <td>50.223149</td>\n",
              "    </tr>\n",
              "  </tbody>\n",
              "</table>\n",
              "</div>"
            ],
            "text/plain": [
              "                       null value  percentage\n",
              "Unnamed: 0                      0    0.000000\n",
              "match_id                        0    0.000000\n",
              "team_id                         0    0.000000\n",
              "location_x                   1461    4.759423\n",
              "power_of_shot                1486    4.840864\n",
              "knockout_match.1             1493    4.863667\n",
              "home/away                    1497    4.876698\n",
              "area_of_shot                 1502    4.892986\n",
              "knockout_match               1517    4.941851\n",
              "team_name                    1535    5.000489\n",
              "remaining_min.1              1535    5.000489\n",
              "remaining_sec.1              1539    5.013519\n",
              "power_of_shot.1              1539    5.013519\n",
              "location_y                   1540    5.016777\n",
              "date_of_game                 1550    5.049353\n",
              "remaining_min                1562    5.088445\n",
              "match_event_id               1563    5.091703\n",
              "shot_id_number               1563    5.091703\n",
              "range_of_shot                1564    5.094960\n",
              "lat/lng                      1565    5.098218\n",
              "distance_of_shot             1567    5.104733\n",
              "distance_of_shot.1           1568    5.107991\n",
              "shot_basics                  1575    5.130795\n",
              "remaining_sec                1594    5.192690\n",
              "game_season                  5862   19.096329\n",
              "is_goal                      6268   20.418933\n",
              "type_of_shot                15280   49.776851\n",
              "type_of_combined_shot       15417   50.223149"
            ]
          },
          "metadata": {
            "tags": []
          },
          "execution_count": 70
        }
      ]
    },
    {
      "cell_type": "code",
      "metadata": {
        "id": "4aVW6K0qztCq",
        "outputId": "ed0988cc-b8e9-4086-c9da-62a49a8b6567",
        "colab": {
          "base_uri": "https://localhost:8080/"
        }
      },
      "source": [
        "#target value \n",
        "data.is_goal.unique()"
      ],
      "execution_count": 71,
      "outputs": [
        {
          "output_type": "execute_result",
          "data": {
            "text/plain": [
              "array([nan,  0.,  1.])"
            ]
          },
          "metadata": {
            "tags": []
          },
          "execution_count": 71
        }
      ]
    },
    {
      "cell_type": "code",
      "metadata": {
        "id": "yvirZQ7ZypFk"
      },
      "source": [
        "#EDA"
      ],
      "execution_count": 72,
      "outputs": []
    },
    {
      "cell_type": "code",
      "metadata": {
        "id": "uSuAxyeM0APP",
        "outputId": "91a6b2c3-581d-4c18-8a66-f9205ab70e67",
        "colab": {
          "base_uri": "https://localhost:8080/"
        }
      },
      "source": [
        "#dropping the unnecesary columns\n",
        "data.columns"
      ],
      "execution_count": 73,
      "outputs": [
        {
          "output_type": "execute_result",
          "data": {
            "text/plain": [
              "Index(['Unnamed: 0', 'match_event_id', 'location_x', 'location_y',\n",
              "       'remaining_min', 'power_of_shot', 'knockout_match', 'game_season',\n",
              "       'remaining_sec', 'distance_of_shot', 'is_goal', 'area_of_shot',\n",
              "       'shot_basics', 'range_of_shot', 'team_name', 'date_of_game',\n",
              "       'home/away', 'shot_id_number', 'lat/lng', 'type_of_shot',\n",
              "       'type_of_combined_shot', 'match_id', 'team_id', 'remaining_min.1',\n",
              "       'power_of_shot.1', 'knockout_match.1', 'remaining_sec.1',\n",
              "       'distance_of_shot.1'],\n",
              "      dtype='object')"
            ]
          },
          "metadata": {
            "tags": []
          },
          "execution_count": 73
        }
      ]
    },
    {
      "cell_type": "code",
      "metadata": {
        "id": "tSrviArd0GQX"
      },
      "source": [
        "data=data.drop(['remaining_min.1',\n",
        "       'power_of_shot.1', 'knockout_match.1', 'remaining_sec.1',\n",
        "       'distance_of_shot.1'],axis=1)"
      ],
      "execution_count": 74,
      "outputs": []
    },
    {
      "cell_type": "code",
      "metadata": {
        "id": "2fM4qjhT0pca",
        "outputId": "be762147-900a-4c6e-99df-79c05e2b5590",
        "colab": {
          "base_uri": "https://localhost:8080/",
          "height": 326
        }
      },
      "source": [
        "data.tail()"
      ],
      "execution_count": 75,
      "outputs": [
        {
          "output_type": "execute_result",
          "data": {
            "text/html": [
              "<div>\n",
              "<style scoped>\n",
              "    .dataframe tbody tr th:only-of-type {\n",
              "        vertical-align: middle;\n",
              "    }\n",
              "\n",
              "    .dataframe tbody tr th {\n",
              "        vertical-align: top;\n",
              "    }\n",
              "\n",
              "    .dataframe thead th {\n",
              "        text-align: right;\n",
              "    }\n",
              "</style>\n",
              "<table border=\"1\" class=\"dataframe\">\n",
              "  <thead>\n",
              "    <tr style=\"text-align: right;\">\n",
              "      <th></th>\n",
              "      <th>Unnamed: 0</th>\n",
              "      <th>match_event_id</th>\n",
              "      <th>location_x</th>\n",
              "      <th>location_y</th>\n",
              "      <th>remaining_min</th>\n",
              "      <th>power_of_shot</th>\n",
              "      <th>knockout_match</th>\n",
              "      <th>game_season</th>\n",
              "      <th>remaining_sec</th>\n",
              "      <th>distance_of_shot</th>\n",
              "      <th>is_goal</th>\n",
              "      <th>area_of_shot</th>\n",
              "      <th>shot_basics</th>\n",
              "      <th>range_of_shot</th>\n",
              "      <th>team_name</th>\n",
              "      <th>date_of_game</th>\n",
              "      <th>home/away</th>\n",
              "      <th>shot_id_number</th>\n",
              "      <th>lat/lng</th>\n",
              "      <th>type_of_shot</th>\n",
              "      <th>type_of_combined_shot</th>\n",
              "      <th>match_id</th>\n",
              "      <th>team_id</th>\n",
              "    </tr>\n",
              "  </thead>\n",
              "  <tbody>\n",
              "    <tr>\n",
              "      <th>30692</th>\n",
              "      <td>30692</td>\n",
              "      <td>397.0</td>\n",
              "      <td>1.0</td>\n",
              "      <td>48.0</td>\n",
              "      <td>6.0</td>\n",
              "      <td>4.0</td>\n",
              "      <td>1.0</td>\n",
              "      <td>1999-00</td>\n",
              "      <td>5.0</td>\n",
              "      <td>24.0</td>\n",
              "      <td>0.0</td>\n",
              "      <td>Center(C)</td>\n",
              "      <td>NaN</td>\n",
              "      <td>Less Than 8 ft.</td>\n",
              "      <td>Manchester United</td>\n",
              "      <td>2000-06-19</td>\n",
              "      <td>MANU vs. IND</td>\n",
              "      <td>NaN</td>\n",
              "      <td>42.982923, -71.446094</td>\n",
              "      <td>shot - 1</td>\n",
              "      <td>NaN</td>\n",
              "      <td>49900088</td>\n",
              "      <td>1610612747</td>\n",
              "    </tr>\n",
              "    <tr>\n",
              "      <th>30693</th>\n",
              "      <td>30693</td>\n",
              "      <td>398.0</td>\n",
              "      <td>0.0</td>\n",
              "      <td>0.0</td>\n",
              "      <td>6.0</td>\n",
              "      <td>4.0</td>\n",
              "      <td>1.0</td>\n",
              "      <td>1999-00</td>\n",
              "      <td>5.0</td>\n",
              "      <td>20.0</td>\n",
              "      <td>NaN</td>\n",
              "      <td>Center(C)</td>\n",
              "      <td>Goal Area</td>\n",
              "      <td>Less Than 8 ft.</td>\n",
              "      <td>Manchester United</td>\n",
              "      <td>2000-06-19</td>\n",
              "      <td>MANU vs. IND</td>\n",
              "      <td>30694.0</td>\n",
              "      <td>42.982923, -71.446094</td>\n",
              "      <td>shot - 49</td>\n",
              "      <td>NaN</td>\n",
              "      <td>49900088</td>\n",
              "      <td>1610612747</td>\n",
              "    </tr>\n",
              "    <tr>\n",
              "      <th>30694</th>\n",
              "      <td>30694</td>\n",
              "      <td>426.0</td>\n",
              "      <td>-134.0</td>\n",
              "      <td>166.0</td>\n",
              "      <td>3.0</td>\n",
              "      <td>4.0</td>\n",
              "      <td>1.0</td>\n",
              "      <td>1999-00</td>\n",
              "      <td>28.0</td>\n",
              "      <td>41.0</td>\n",
              "      <td>1.0</td>\n",
              "      <td>Left Side Center(LC)</td>\n",
              "      <td>Mid Range</td>\n",
              "      <td>16-24 ft.</td>\n",
              "      <td>Manchester United</td>\n",
              "      <td>2000-06-19</td>\n",
              "      <td>MANU vs. IND</td>\n",
              "      <td>30695.0</td>\n",
              "      <td>NaN</td>\n",
              "      <td>NaN</td>\n",
              "      <td>shot - 3</td>\n",
              "      <td>49900088</td>\n",
              "      <td>1610612747</td>\n",
              "    </tr>\n",
              "    <tr>\n",
              "      <th>30695</th>\n",
              "      <td>30695</td>\n",
              "      <td>448.0</td>\n",
              "      <td>31.0</td>\n",
              "      <td>267.0</td>\n",
              "      <td>2.0</td>\n",
              "      <td>4.0</td>\n",
              "      <td>1.0</td>\n",
              "      <td>1999-00</td>\n",
              "      <td>10.0</td>\n",
              "      <td>46.0</td>\n",
              "      <td>0.0</td>\n",
              "      <td>Center(C)</td>\n",
              "      <td>Penalty Spot</td>\n",
              "      <td>NaN</td>\n",
              "      <td>Manchester United</td>\n",
              "      <td>2000-06-19</td>\n",
              "      <td>MANU vs. IND</td>\n",
              "      <td>30696.0</td>\n",
              "      <td>42.982923, -71.446094</td>\n",
              "      <td>shot - 26</td>\n",
              "      <td>NaN</td>\n",
              "      <td>49900088</td>\n",
              "      <td>1610612747</td>\n",
              "    </tr>\n",
              "    <tr>\n",
              "      <th>30696</th>\n",
              "      <td>30696</td>\n",
              "      <td>471.0</td>\n",
              "      <td>1.0</td>\n",
              "      <td>NaN</td>\n",
              "      <td>0.0</td>\n",
              "      <td>4.0</td>\n",
              "      <td>1.0</td>\n",
              "      <td>1999-00</td>\n",
              "      <td>39.0</td>\n",
              "      <td>27.0</td>\n",
              "      <td>0.0</td>\n",
              "      <td>Center(C)</td>\n",
              "      <td>Goal Line</td>\n",
              "      <td>Less Than 8 ft.</td>\n",
              "      <td>Manchester United</td>\n",
              "      <td>2000-06-19</td>\n",
              "      <td>MANU vs. IND</td>\n",
              "      <td>30697.0</td>\n",
              "      <td>42.982923, -71.446094</td>\n",
              "      <td>shot - 45</td>\n",
              "      <td>NaN</td>\n",
              "      <td>49900088</td>\n",
              "      <td>1610612747</td>\n",
              "    </tr>\n",
              "  </tbody>\n",
              "</table>\n",
              "</div>"
            ],
            "text/plain": [
              "       Unnamed: 0  match_event_id  ...  match_id     team_id\n",
              "30692       30692           397.0  ...  49900088  1610612747\n",
              "30693       30693           398.0  ...  49900088  1610612747\n",
              "30694       30694           426.0  ...  49900088  1610612747\n",
              "30695       30695           448.0  ...  49900088  1610612747\n",
              "30696       30696           471.0  ...  49900088  1610612747\n",
              "\n",
              "[5 rows x 23 columns]"
            ]
          },
          "metadata": {
            "tags": []
          },
          "execution_count": 75
        }
      ]
    },
    {
      "cell_type": "code",
      "metadata": {
        "id": "SZNrrpI31Gg4",
        "outputId": "96cf7fe7-f6c5-4479-cd77-95a5468d2d0e",
        "colab": {
          "base_uri": "https://localhost:8080/"
        }
      },
      "source": [
        "data.info()"
      ],
      "execution_count": 76,
      "outputs": [
        {
          "output_type": "stream",
          "text": [
            "<class 'pandas.core.frame.DataFrame'>\n",
            "RangeIndex: 30697 entries, 0 to 30696\n",
            "Data columns (total 23 columns):\n",
            " #   Column                 Non-Null Count  Dtype  \n",
            "---  ------                 --------------  -----  \n",
            " 0   Unnamed: 0             30697 non-null  int64  \n",
            " 1   match_event_id         29134 non-null  float64\n",
            " 2   location_x             29236 non-null  float64\n",
            " 3   location_y             29157 non-null  float64\n",
            " 4   remaining_min          29135 non-null  float64\n",
            " 5   power_of_shot          29211 non-null  float64\n",
            " 6   knockout_match         29180 non-null  float64\n",
            " 7   game_season            24835 non-null  object \n",
            " 8   remaining_sec          29103 non-null  float64\n",
            " 9   distance_of_shot       29130 non-null  float64\n",
            " 10  is_goal                24429 non-null  float64\n",
            " 11  area_of_shot           29195 non-null  object \n",
            " 12  shot_basics            29122 non-null  object \n",
            " 13  range_of_shot          29133 non-null  object \n",
            " 14  team_name              29162 non-null  object \n",
            " 15  date_of_game           29147 non-null  object \n",
            " 16  home/away              29200 non-null  object \n",
            " 17  shot_id_number         29134 non-null  float64\n",
            " 18  lat/lng                29132 non-null  object \n",
            " 19  type_of_shot           15417 non-null  object \n",
            " 20  type_of_combined_shot  15280 non-null  object \n",
            " 21  match_id               30697 non-null  int64  \n",
            " 22  team_id                30697 non-null  int64  \n",
            "dtypes: float64(10), int64(3), object(10)\n",
            "memory usage: 5.4+ MB\n"
          ],
          "name": "stdout"
        }
      ]
    },
    {
      "cell_type": "code",
      "metadata": {
        "id": "AOPK3Qjk1KD6"
      },
      "source": [
        "data.date_of_game=pd.to_datetime(data.date_of_game,errors= 'coerce' )"
      ],
      "execution_count": 77,
      "outputs": []
    },
    {
      "cell_type": "code",
      "metadata": {
        "id": "Q_g2KHtI2npL"
      },
      "source": [
        "data['game_season']=data['game_season'].astype('object')"
      ],
      "execution_count": 78,
      "outputs": []
    },
    {
      "cell_type": "code",
      "metadata": {
        "id": "h8fzjrIv2yp4",
        "outputId": "4c0e8145-658c-42f6-e741-dc812f4736eb",
        "colab": {
          "base_uri": "https://localhost:8080/"
        }
      },
      "source": [
        "data['game_season']"
      ],
      "execution_count": 79,
      "outputs": [
        {
          "output_type": "execute_result",
          "data": {
            "text/plain": [
              "0        2000-01\n",
              "1        2000-01\n",
              "2        2000-01\n",
              "3        2000-01\n",
              "4        2000-01\n",
              "          ...   \n",
              "30692    1999-00\n",
              "30693    1999-00\n",
              "30694    1999-00\n",
              "30695    1999-00\n",
              "30696    1999-00\n",
              "Name: game_season, Length: 30697, dtype: object"
            ]
          },
          "metadata": {
            "tags": []
          },
          "execution_count": 79
        }
      ]
    },
    {
      "cell_type": "code",
      "metadata": {
        "id": "lrX3IRR9267-"
      },
      "source": [
        "#one hot encong the game session\n",
        "l_uniq=data.game_season.unique()"
      ],
      "execution_count": 80,
      "outputs": []
    },
    {
      "cell_type": "code",
      "metadata": {
        "id": "GDsxsm4t3C2L"
      },
      "source": [
        "v_unique=np.arange(0,len(data.game_season.unique()))"
      ],
      "execution_count": 81,
      "outputs": []
    },
    {
      "cell_type": "code",
      "metadata": {
        "id": "gNeLMW6l3O0R",
        "outputId": "3379578b-313d-4206-c323-a04d4b6d90e1",
        "colab": {
          "base_uri": "https://localhost:8080/"
        }
      },
      "source": [
        "v_unique"
      ],
      "execution_count": 82,
      "outputs": [
        {
          "output_type": "execute_result",
          "data": {
            "text/plain": [
              "array([ 0,  1,  2,  3,  4,  5,  6,  7,  8,  9, 10, 11, 12, 13, 14, 15, 16,\n",
              "       17, 18, 19, 20])"
            ]
          },
          "metadata": {
            "tags": []
          },
          "execution_count": 82
        }
      ]
    },
    {
      "cell_type": "code",
      "metadata": {
        "id": "X9j7OrvP3R9h"
      },
      "source": [
        "data['game_season']=data.game_season.replace(to_replace=l_uniq,value=v_unique)"
      ],
      "execution_count": 83,
      "outputs": []
    },
    {
      "cell_type": "code",
      "metadata": {
        "id": "ExNK0Mw64oBg",
        "outputId": "f1e431ce-6f34-46ea-f927-8b6dbefe8f72",
        "colab": {
          "base_uri": "https://localhost:8080/"
        }
      },
      "source": [
        "data.game_season.head()"
      ],
      "execution_count": 84,
      "outputs": [
        {
          "output_type": "execute_result",
          "data": {
            "text/plain": [
              "0    0\n",
              "1    0\n",
              "2    0\n",
              "3    0\n",
              "4    0\n",
              "Name: game_season, dtype: int64"
            ]
          },
          "metadata": {
            "tags": []
          },
          "execution_count": 84
        }
      ]
    },
    {
      "cell_type": "code",
      "metadata": {
        "id": "_Q5wSbv840Bn",
        "outputId": "4a068cd6-c32d-4550-d481-9526e325ea9a",
        "colab": {
          "base_uri": "https://localhost:8080/"
        }
      },
      "source": [
        "#missing values\n",
        "data.isnull().sum()"
      ],
      "execution_count": 85,
      "outputs": [
        {
          "output_type": "execute_result",
          "data": {
            "text/plain": [
              "Unnamed: 0                   0\n",
              "match_event_id            1563\n",
              "location_x                1461\n",
              "location_y                1540\n",
              "remaining_min             1562\n",
              "power_of_shot             1486\n",
              "knockout_match            1517\n",
              "game_season                  0\n",
              "remaining_sec             1594\n",
              "distance_of_shot          1567\n",
              "is_goal                   6268\n",
              "area_of_shot              1502\n",
              "shot_basics               1575\n",
              "range_of_shot             1564\n",
              "team_name                 1535\n",
              "date_of_game              1550\n",
              "home/away                 1497\n",
              "shot_id_number            1563\n",
              "lat/lng                   1565\n",
              "type_of_shot             15280\n",
              "type_of_combined_shot    15417\n",
              "match_id                     0\n",
              "team_id                      0\n",
              "dtype: int64"
            ]
          },
          "metadata": {
            "tags": []
          },
          "execution_count": 85
        }
      ]
    },
    {
      "cell_type": "code",
      "metadata": {
        "id": "JMERHJSe5Q-w",
        "outputId": "cda77fa2-c81e-46af-a226-7209654f527d",
        "colab": {
          "base_uri": "https://localhost:8080/",
          "height": 317
        }
      },
      "source": [
        "data.describe()"
      ],
      "execution_count": 86,
      "outputs": [
        {
          "output_type": "execute_result",
          "data": {
            "text/html": [
              "<div>\n",
              "<style scoped>\n",
              "    .dataframe tbody tr th:only-of-type {\n",
              "        vertical-align: middle;\n",
              "    }\n",
              "\n",
              "    .dataframe tbody tr th {\n",
              "        vertical-align: top;\n",
              "    }\n",
              "\n",
              "    .dataframe thead th {\n",
              "        text-align: right;\n",
              "    }\n",
              "</style>\n",
              "<table border=\"1\" class=\"dataframe\">\n",
              "  <thead>\n",
              "    <tr style=\"text-align: right;\">\n",
              "      <th></th>\n",
              "      <th>Unnamed: 0</th>\n",
              "      <th>match_event_id</th>\n",
              "      <th>location_x</th>\n",
              "      <th>location_y</th>\n",
              "      <th>remaining_min</th>\n",
              "      <th>power_of_shot</th>\n",
              "      <th>knockout_match</th>\n",
              "      <th>game_season</th>\n",
              "      <th>remaining_sec</th>\n",
              "      <th>distance_of_shot</th>\n",
              "      <th>is_goal</th>\n",
              "      <th>shot_id_number</th>\n",
              "      <th>match_id</th>\n",
              "      <th>team_id</th>\n",
              "    </tr>\n",
              "  </thead>\n",
              "  <tbody>\n",
              "    <tr>\n",
              "      <th>count</th>\n",
              "      <td>30697.000000</td>\n",
              "      <td>29134.000000</td>\n",
              "      <td>29236.000000</td>\n",
              "      <td>29157.000000</td>\n",
              "      <td>29135.000000</td>\n",
              "      <td>29211.000000</td>\n",
              "      <td>29180.000000</td>\n",
              "      <td>30697.000000</td>\n",
              "      <td>29103.000000</td>\n",
              "      <td>29130.000000</td>\n",
              "      <td>24429.000000</td>\n",
              "      <td>29134.000000</td>\n",
              "      <td>3.069700e+04</td>\n",
              "      <td>3.069700e+04</td>\n",
              "    </tr>\n",
              "    <tr>\n",
              "      <th>mean</th>\n",
              "      <td>15348.000000</td>\n",
              "      <td>249.576028</td>\n",
              "      <td>7.383876</td>\n",
              "      <td>91.126933</td>\n",
              "      <td>4.883233</td>\n",
              "      <td>2.519359</td>\n",
              "      <td>0.145956</td>\n",
              "      <td>7.418347</td>\n",
              "      <td>28.329382</td>\n",
              "      <td>33.448884</td>\n",
              "      <td>0.445331</td>\n",
              "      <td>15368.581039</td>\n",
              "      <td>2.476407e+07</td>\n",
              "      <td>1.610613e+09</td>\n",
              "    </tr>\n",
              "    <tr>\n",
              "      <th>std</th>\n",
              "      <td>8861.604943</td>\n",
              "      <td>150.186019</td>\n",
              "      <td>110.263049</td>\n",
              "      <td>87.676395</td>\n",
              "      <td>3.452533</td>\n",
              "      <td>1.153976</td>\n",
              "      <td>0.353068</td>\n",
              "      <td>5.888841</td>\n",
              "      <td>17.470663</td>\n",
              "      <td>9.369656</td>\n",
              "      <td>0.497013</td>\n",
              "      <td>8866.520772</td>\n",
              "      <td>7.755175e+06</td>\n",
              "      <td>0.000000e+00</td>\n",
              "    </tr>\n",
              "    <tr>\n",
              "      <th>min</th>\n",
              "      <td>0.000000</td>\n",
              "      <td>2.000000</td>\n",
              "      <td>-250.000000</td>\n",
              "      <td>-44.000000</td>\n",
              "      <td>0.000000</td>\n",
              "      <td>1.000000</td>\n",
              "      <td>0.000000</td>\n",
              "      <td>0.000000</td>\n",
              "      <td>0.000000</td>\n",
              "      <td>20.000000</td>\n",
              "      <td>0.000000</td>\n",
              "      <td>1.000000</td>\n",
              "      <td>2.000001e+07</td>\n",
              "      <td>1.610613e+09</td>\n",
              "    </tr>\n",
              "    <tr>\n",
              "      <th>25%</th>\n",
              "      <td>7674.000000</td>\n",
              "      <td>111.000000</td>\n",
              "      <td>-68.000000</td>\n",
              "      <td>4.000000</td>\n",
              "      <td>2.000000</td>\n",
              "      <td>1.000000</td>\n",
              "      <td>0.000000</td>\n",
              "      <td>2.000000</td>\n",
              "      <td>13.000000</td>\n",
              "      <td>25.000000</td>\n",
              "      <td>0.000000</td>\n",
              "      <td>7693.250000</td>\n",
              "      <td>2.050008e+07</td>\n",
              "      <td>1.610613e+09</td>\n",
              "    </tr>\n",
              "    <tr>\n",
              "      <th>50%</th>\n",
              "      <td>15348.000000</td>\n",
              "      <td>254.000000</td>\n",
              "      <td>0.000000</td>\n",
              "      <td>74.000000</td>\n",
              "      <td>5.000000</td>\n",
              "      <td>3.000000</td>\n",
              "      <td>0.000000</td>\n",
              "      <td>7.000000</td>\n",
              "      <td>28.000000</td>\n",
              "      <td>35.000000</td>\n",
              "      <td>0.000000</td>\n",
              "      <td>15378.500000</td>\n",
              "      <td>2.090035e+07</td>\n",
              "      <td>1.610613e+09</td>\n",
              "    </tr>\n",
              "    <tr>\n",
              "      <th>75%</th>\n",
              "      <td>23022.000000</td>\n",
              "      <td>369.000000</td>\n",
              "      <td>95.000000</td>\n",
              "      <td>160.000000</td>\n",
              "      <td>8.000000</td>\n",
              "      <td>3.000000</td>\n",
              "      <td>0.000000</td>\n",
              "      <td>11.000000</td>\n",
              "      <td>43.000000</td>\n",
              "      <td>41.000000</td>\n",
              "      <td>1.000000</td>\n",
              "      <td>23055.750000</td>\n",
              "      <td>2.960047e+07</td>\n",
              "      <td>1.610613e+09</td>\n",
              "    </tr>\n",
              "    <tr>\n",
              "      <th>max</th>\n",
              "      <td>30696.000000</td>\n",
              "      <td>659.000000</td>\n",
              "      <td>248.000000</td>\n",
              "      <td>791.000000</td>\n",
              "      <td>11.000000</td>\n",
              "      <td>7.000000</td>\n",
              "      <td>1.000000</td>\n",
              "      <td>20.000000</td>\n",
              "      <td>59.000000</td>\n",
              "      <td>99.000000</td>\n",
              "      <td>1.000000</td>\n",
              "      <td>30697.000000</td>\n",
              "      <td>4.990009e+07</td>\n",
              "      <td>1.610613e+09</td>\n",
              "    </tr>\n",
              "  </tbody>\n",
              "</table>\n",
              "</div>"
            ],
            "text/plain": [
              "         Unnamed: 0  match_event_id  ...      match_id       team_id\n",
              "count  30697.000000    29134.000000  ...  3.069700e+04  3.069700e+04\n",
              "mean   15348.000000      249.576028  ...  2.476407e+07  1.610613e+09\n",
              "std     8861.604943      150.186019  ...  7.755175e+06  0.000000e+00\n",
              "min        0.000000        2.000000  ...  2.000001e+07  1.610613e+09\n",
              "25%     7674.000000      111.000000  ...  2.050008e+07  1.610613e+09\n",
              "50%    15348.000000      254.000000  ...  2.090035e+07  1.610613e+09\n",
              "75%    23022.000000      369.000000  ...  2.960047e+07  1.610613e+09\n",
              "max    30696.000000      659.000000  ...  4.990009e+07  1.610613e+09\n",
              "\n",
              "[8 rows x 14 columns]"
            ]
          },
          "metadata": {
            "tags": []
          },
          "execution_count": 86
        }
      ]
    },
    {
      "cell_type": "code",
      "metadata": {
        "id": "DoxWAEpy46K9"
      },
      "source": [
        "data['power_of_shot']=data['power_of_shot'].fillna(value=data.power_of_shot.mean())"
      ],
      "execution_count": 87,
      "outputs": []
    },
    {
      "cell_type": "code",
      "metadata": {
        "id": "EIKF5IOQ5nuR"
      },
      "source": [
        "data['type_of_combined_shot']=data['type_of_combined_shot'].fillna(value=data.type_of_combined_shot.mode())"
      ],
      "execution_count": 88,
      "outputs": []
    },
    {
      "cell_type": "code",
      "metadata": {
        "id": "0VuOdoerAWDS"
      },
      "source": [
        "data.type_of_combined_shot=data.type_of_combined_shot.fillna(value=data.type_of_combined_shot.mode())"
      ],
      "execution_count": 89,
      "outputs": []
    },
    {
      "cell_type": "code",
      "metadata": {
        "id": "Iz4xfbmk5-h6",
        "outputId": "3e9b01d7-96d0-48af-88f2-458df1b8b8c8",
        "colab": {
          "base_uri": "https://localhost:8080/"
        }
      },
      "source": [
        "data.isnull().sum()"
      ],
      "execution_count": 90,
      "outputs": [
        {
          "output_type": "execute_result",
          "data": {
            "text/plain": [
              "Unnamed: 0                   0\n",
              "match_event_id            1563\n",
              "location_x                1461\n",
              "location_y                1540\n",
              "remaining_min             1562\n",
              "power_of_shot                0\n",
              "knockout_match            1517\n",
              "game_season                  0\n",
              "remaining_sec             1594\n",
              "distance_of_shot          1567\n",
              "is_goal                   6268\n",
              "area_of_shot              1502\n",
              "shot_basics               1575\n",
              "range_of_shot             1564\n",
              "team_name                 1535\n",
              "date_of_game              1550\n",
              "home/away                 1497\n",
              "shot_id_number            1563\n",
              "lat/lng                   1565\n",
              "type_of_shot             15280\n",
              "type_of_combined_shot    15416\n",
              "match_id                     0\n",
              "team_id                      0\n",
              "dtype: int64"
            ]
          },
          "metadata": {
            "tags": []
          },
          "execution_count": 90
        }
      ]
    },
    {
      "cell_type": "code",
      "metadata": {
        "id": "yo4vxCWV6cof"
      },
      "source": [
        "# Filling NaN values in Column \"remaining_sec\" with MEDIAN\n",
        "data['remaining_sec']=data['remaining_sec'].fillna(value=data.remaining_sec.mean())"
      ],
      "execution_count": 91,
      "outputs": []
    },
    {
      "cell_type": "code",
      "metadata": {
        "id": "C-Y-NvOm6lU_"
      },
      "source": [
        "# shot no.\n",
        "data.shot_id_number=pd.Series(np.arange(1,data.shot_id_number.shape[0]+1))"
      ],
      "execution_count": 92,
      "outputs": []
    },
    {
      "cell_type": "code",
      "metadata": {
        "id": "YzwAaIHV58PO"
      },
      "source": [
        "data.location_x=data.location_x.fillna(value=0)\n",
        "data.location_y=data.location_y.fillna(value=0)"
      ],
      "execution_count": 94,
      "outputs": []
    },
    {
      "cell_type": "code",
      "metadata": {
        "id": "Rx0gL5aO42xB",
        "outputId": "e9716181-d6c0-4cd3-b57c-1a9df5e7a55d",
        "colab": {
          "base_uri": "https://localhost:8080/"
        }
      },
      "source": [
        "data.isnull().sum()"
      ],
      "execution_count": 95,
      "outputs": [
        {
          "output_type": "execute_result",
          "data": {
            "text/plain": [
              "Unnamed: 0                   0\n",
              "match_event_id            1563\n",
              "location_x                   0\n",
              "location_y                   0\n",
              "remaining_min             1562\n",
              "power_of_shot                0\n",
              "knockout_match            1517\n",
              "game_season                  0\n",
              "remaining_sec                0\n",
              "distance_of_shot          1567\n",
              "is_goal                   6268\n",
              "area_of_shot              1502\n",
              "shot_basics               1575\n",
              "range_of_shot             1564\n",
              "team_name                 1535\n",
              "date_of_game              1550\n",
              "home/away                 1497\n",
              "shot_id_number               0\n",
              "lat/lng                   1565\n",
              "type_of_shot             15280\n",
              "type_of_combined_shot    15416\n",
              "match_id                     0\n",
              "team_id                      0\n",
              "dtype: int64"
            ]
          },
          "metadata": {
            "tags": []
          },
          "execution_count": 95
        }
      ]
    },
    {
      "cell_type": "code",
      "metadata": {
        "id": "lZjtFH-V-lgE"
      },
      "source": [
        "#using forward fill\n",
        "coll = ['home/away','lat/lng', 'team_name','match_event_id', 'remaining_min', 'knockout_match']\n",
        "data.loc[:,coll]=data.loc[:,coll].ffill()"
      ],
      "execution_count": 96,
      "outputs": []
    },
    {
      "cell_type": "code",
      "metadata": {
        "id": "OUhPquph_k5K",
        "outputId": "36947d6c-2943-4dc8-cce9-c72a92b513c9",
        "colab": {
          "base_uri": "https://localhost:8080/"
        }
      },
      "source": [
        "data.isnull().sum()"
      ],
      "execution_count": 97,
      "outputs": [
        {
          "output_type": "execute_result",
          "data": {
            "text/plain": [
              "Unnamed: 0                   0\n",
              "match_event_id               0\n",
              "location_x                   0\n",
              "location_y                   0\n",
              "remaining_min                0\n",
              "power_of_shot                0\n",
              "knockout_match               0\n",
              "game_season                  0\n",
              "remaining_sec                0\n",
              "distance_of_shot          1567\n",
              "is_goal                   6268\n",
              "area_of_shot              1502\n",
              "shot_basics               1575\n",
              "range_of_shot             1564\n",
              "team_name                    0\n",
              "date_of_game              1550\n",
              "home/away                    0\n",
              "shot_id_number               0\n",
              "lat/lng                      0\n",
              "type_of_shot             15280\n",
              "type_of_combined_shot    15416\n",
              "match_id                     0\n",
              "team_id                      0\n",
              "dtype: int64"
            ]
          },
          "metadata": {
            "tags": []
          },
          "execution_count": 97
        }
      ]
    },
    {
      "cell_type": "code",
      "metadata": {
        "id": "G4dTskezA1Uo"
      },
      "source": [
        "mm=data.type_of_combined_shot.mode()\n",
        "data['type_of_combined_shot']=data['type_of_combined_shot'].fillna(value=mm)"
      ],
      "execution_count": 102,
      "outputs": []
    },
    {
      "cell_type": "code",
      "metadata": {
        "id": "oK0O6k3pA_81",
        "outputId": "38f0b7ba-6fff-4956-b12d-e0944b79581d",
        "colab": {
          "base_uri": "https://localhost:8080/"
        }
      },
      "source": [
        "# Filling Missing Values In \"range_of_short\" based on \"short_basics\" column!\n",
        "\n",
        "# if shot_basics is Goal Area, then range of shot is Less Than 8 ft\n",
        "data.loc[(data.shot_basics == 'Goal Area'), 'range_of_shot']       = data[data.shot_basics == 'Goal Area'].range_of_shot.fillna(value='Less Than 8 ft.')\n",
        "# if shot_basics is Penalty Spot, then range of shot is  24+ ft.\n",
        "data.loc[(data.shot_basics == 'Penalty Spot'), 'range_of_shot']    = data[data.shot_basics == 'Penalty Spot'].range_of_shot.fillna(value= '24+ ft.')\n",
        "# if shot_basics is Right Corner, then range of shot is  24+ ft.\n",
        "data.loc[(data.shot_basics == 'Right Corner'), 'range_of_shot']    = data[data.shot_basics == 'Right Corner'].range_of_shot.fillna(value='24+ ft.')\n",
        "# if shot_basics is Left Corner, then range of shot is  24+ ft.\n",
        "data.loc[(data.shot_basics == 'Left Corner'), 'range_of_shot']     = data[data.shot_basics == 'Left Corner'].range_of_shot.fillna(value='24+ ft.')\n",
        "# if shot_basics is Mid Ground Line , then range of shot is  Back Court Shot\n",
        "data.loc[(data.shot_basics == 'Mid Ground Line'), 'range_of_shot'] = data[data.shot_basics == 'Mid Ground Line'].range_of_shot.fillna(value='Back Court Shot')\n",
        "# if shot_basics is Mid Range then randomly assign '16-24 ft.' or  '8-16 ft.' to range of shot\n",
        "data.loc[(data.shot_basics == 'Mid Range')&(data.range_of_shot.isnull()), 'range_of_shot']       = pd.Series(data[(data.shot_basics == 'Mid Range')&(data.range_of_shot.isnull())].range_of_shot.apply(lambda x: x if type(x)==str else np.random.choice(['16-24 ft.', '8-16 ft.'],1,p=[0.6527708850289495, 0.34722911497105047])[0]))\n",
        "# if shot_basics is Goal Line then randomly assign ''8-16 ft.' or  'Less Than 8 ft.' to range of shot\n",
        "data.loc[(data.shot_basics == 'Goal Line')&(data.range_of_shot.isnull()), 'range_of_shot']       = pd.Series(data[(data.shot_basics == 'Goal Line')&(data.range_of_shot.isnull())].range_of_shot.apply(lambda x: x if type(x)==str else np.random.choice(['8-16 ft.', 'Less Than 8 ft.'],1,p=[0.5054360956752839, 0.49456390432471614])[0]))\n",
        "\n",
        "data.isnull().sum() # number of missing values for range_of_shot column should have been reduced"
      ],
      "execution_count": 111,
      "outputs": [
        {
          "output_type": "execute_result",
          "data": {
            "text/plain": [
              "Unnamed: 0                   0\n",
              "match_event_id               0\n",
              "location_x                   0\n",
              "location_y                   0\n",
              "remaining_min                0\n",
              "power_of_shot                0\n",
              "knockout_match               0\n",
              "game_season                  0\n",
              "remaining_sec                0\n",
              "distance_of_shot          1567\n",
              "is_goal                   6268\n",
              "area_of_shot              1502\n",
              "shot_basics               1575\n",
              "range_of_shot               66\n",
              "team_name                    0\n",
              "date_of_game              1550\n",
              "home/away                    0\n",
              "shot_id_number               0\n",
              "lat/lng                      0\n",
              "type_of_shot             15280\n",
              "type_of_combined_shot    15416\n",
              "match_id                     0\n",
              "team_id                      0\n",
              "dtype: int64"
            ]
          },
          "metadata": {
            "tags": []
          },
          "execution_count": 111
        }
      ]
    },
    {
      "cell_type": "code",
      "metadata": {
        "id": "OYSgOe4tDrmu",
        "outputId": "2deaf3eb-59bf-46f0-82ac-0db0b8fb5fb3",
        "colab": {
          "base_uri": "https://localhost:8080/"
        }
      },
      "source": [
        "# Filling the remaining missing values incase they both have NaN values using the forward fill method\n",
        "data.shot_basics.fillna(method='ffill', inplace=True)\n",
        "data.range_of_shot.fillna(method='ffill', inplace=True)\n",
        "data.isnull().sum() # number of missing values for shot_basics and range_of_shot columns should be zero"
      ],
      "execution_count": 112,
      "outputs": [
        {
          "output_type": "execute_result",
          "data": {
            "text/plain": [
              "Unnamed: 0                   0\n",
              "match_event_id               0\n",
              "location_x                   0\n",
              "location_y                   0\n",
              "remaining_min                0\n",
              "power_of_shot                0\n",
              "knockout_match               0\n",
              "game_season                  0\n",
              "remaining_sec                0\n",
              "distance_of_shot          1567\n",
              "is_goal                   6268\n",
              "area_of_shot              1502\n",
              "shot_basics                  0\n",
              "range_of_shot                0\n",
              "team_name                    0\n",
              "date_of_game              1550\n",
              "home/away                    0\n",
              "shot_id_number               0\n",
              "lat/lng                      0\n",
              "type_of_shot             15280\n",
              "type_of_combined_shot    15416\n",
              "match_id                     0\n",
              "team_id                      0\n",
              "dtype: int64"
            ]
          },
          "metadata": {
            "tags": []
          },
          "execution_count": 112
        }
      ]
    },
    {
      "cell_type": "code",
      "metadata": {
        "id": "tNFxZotvEZF0",
        "outputId": "b2e80269-c67a-4a46-fdb3-8c28d5b5c83f",
        "colab": {
          "base_uri": "https://localhost:8080/"
        }
      },
      "source": [
        "data.area_of_shot.fillna(value='Center(C)', inplace=True) # all the missing values get filled by  'Centre(C)'\n",
        "data.isnull().sum() # number of missing values for area_of_shot column should be zero"
      ],
      "execution_count": 113,
      "outputs": [
        {
          "output_type": "execute_result",
          "data": {
            "text/plain": [
              "Unnamed: 0                   0\n",
              "match_event_id               0\n",
              "location_x                   0\n",
              "location_y                   0\n",
              "remaining_min                0\n",
              "power_of_shot                0\n",
              "knockout_match               0\n",
              "game_season                  0\n",
              "remaining_sec                0\n",
              "distance_of_shot          1567\n",
              "is_goal                   6268\n",
              "area_of_shot                 0\n",
              "shot_basics                  0\n",
              "range_of_shot                0\n",
              "team_name                    0\n",
              "date_of_game              1550\n",
              "home/away                    0\n",
              "shot_id_number               0\n",
              "lat/lng                      0\n",
              "type_of_shot             15280\n",
              "type_of_combined_shot    15416\n",
              "match_id                     0\n",
              "team_id                      0\n",
              "dtype: int64"
            ]
          },
          "metadata": {
            "tags": []
          },
          "execution_count": 113
        }
      ]
    },
    {
      "cell_type": "code",
      "metadata": {
        "id": "wAhWRcqqE1jM",
        "outputId": "10ca72bb-02c9-4a3d-b638-47e8e4e9fd4a",
        "colab": {
          "base_uri": "https://localhost:8080/"
        }
      },
      "source": [
        "#Filling the Missing values in \"distance_of_shot\"\n",
        "# if distance_of_shot isnull randomly assign a value from 20,45,44,37\n",
        "data.loc[data['distance_of_shot'].isnull(), 'distance_of_shot'] = pd.Series(data.loc[data['distance_of_shot'].isnull(), 'distance_of_shot'].apply(lambda x: x if type(x)==str else np.random.choice([20,45,44,37],1,p=[0.5278056615137523,0.18630797028709095,0.14384661714515157,0.1420397510540052])[0])) \n",
        "data.isnull().sum() # number of missing values for distance_of_shot column should be zero"
      ],
      "execution_count": 114,
      "outputs": [
        {
          "output_type": "execute_result",
          "data": {
            "text/plain": [
              "Unnamed: 0                   0\n",
              "match_event_id               0\n",
              "location_x                   0\n",
              "location_y                   0\n",
              "remaining_min                0\n",
              "power_of_shot                0\n",
              "knockout_match               0\n",
              "game_season                  0\n",
              "remaining_sec                0\n",
              "distance_of_shot             0\n",
              "is_goal                   6268\n",
              "area_of_shot                 0\n",
              "shot_basics                  0\n",
              "range_of_shot                0\n",
              "team_name                    0\n",
              "date_of_game              1550\n",
              "home/away                    0\n",
              "shot_id_number               0\n",
              "lat/lng                      0\n",
              "type_of_shot             15280\n",
              "type_of_combined_shot    15416\n",
              "match_id                     0\n",
              "team_id                      0\n",
              "dtype: int64"
            ]
          },
          "metadata": {
            "tags": []
          },
          "execution_count": 114
        }
      ]
    },
    {
      "cell_type": "code",
      "metadata": {
        "id": "G52SGTk4FCyl",
        "outputId": "ceeb717d-7954-49e5-8e16-2d932a57ab74",
        "colab": {
          "base_uri": "https://localhost:8080/"
        }
      },
      "source": [
        "#handling the nan value type of shot\n",
        "l_goal   = data[data.is_goal == 1].type_of_shot.value_counts().head(6).keys()     # Top six shots when it was goal\n",
        "l_goal"
      ],
      "execution_count": 116,
      "outputs": [
        {
          "output_type": "execute_result",
          "data": {
            "text/plain": [
              "Index(['shot - 4', 'shot - 39', 'shot - 44', 'shot - 36', 'shot - 15',\n",
              "       'shot - 38'],\n",
              "      dtype='object')"
            ]
          },
          "metadata": {
            "tags": []
          },
          "execution_count": 116
        }
      ]
    },
    {
      "cell_type": "code",
      "metadata": {
        "id": "6TztFdOqGkIc",
        "outputId": "59004546-9ff1-4ce0-87ca-d1c039af41b6",
        "colab": {
          "base_uri": "https://localhost:8080/"
        }
      },
      "source": [
        "p_g_sum  = data[data.is_goal == 1].type_of_shot.value_counts().head(6).sum() # Top six shots when it was goal\n",
        "p_goal   = (data[data.is_goal == 1].type_of_shot.value_counts().head(6) / p_g_sum ).tolist()  # There respective probablities\n",
        "p_goal"
      ],
      "execution_count": 117,
      "outputs": [
        {
          "output_type": "execute_result",
          "data": {
            "text/plain": [
              "[0.2682060390763766,\n",
              " 0.19182948490230906,\n",
              " 0.14653641207815277,\n",
              " 0.1447602131438721,\n",
              " 0.12966252220248667,\n",
              " 0.11900532859680284]"
            ]
          },
          "metadata": {
            "tags": []
          },
          "execution_count": 117
        }
      ]
    },
    {
      "cell_type": "code",
      "metadata": {
        "id": "MpG-ZGgQGq28",
        "outputId": "2590dedd-5535-4fd2-f281-d9ed5653b0cb",
        "colab": {
          "base_uri": "https://localhost:8080/"
        }
      },
      "source": [
        "# if is_goal is 1, if type of shot is a string value, fill with the same or else fill with randomly choosing value from l_goal\n",
        "g = pd.Series(data[data.is_goal == 1].type_of_shot.apply(lambda x: x if type(x)==str else np.random.choice(l_goal,1,p=p_goal)[0]))\n",
        "g"
      ],
      "execution_count": 120,
      "outputs": [
        {
          "output_type": "execute_result",
          "data": {
            "text/plain": [
              "2        shot - 25\n",
              "4        shot - 38\n",
              "6        shot - 39\n",
              "8        shot - 36\n",
              "11       shot - 36\n",
              "           ...    \n",
              "30672    shot - 33\n",
              "30674    shot - 38\n",
              "30676    shot - 44\n",
              "30688    shot - 44\n",
              "30694    shot - 44\n",
              "Name: type_of_shot, Length: 10879, dtype: object"
            ]
          },
          "metadata": {
            "tags": []
          },
          "execution_count": 120
        }
      ]
    },
    {
      "cell_type": "code",
      "metadata": {
        "id": "jWwIVVgCGwww",
        "outputId": "80595341-4a48-456f-d28a-e3ccbd154dd9",
        "colab": {
          "base_uri": "https://localhost:8080/"
        }
      },
      "source": [
        "data.isnull().sum()"
      ],
      "execution_count": 124,
      "outputs": [
        {
          "output_type": "execute_result",
          "data": {
            "text/plain": [
              "Unnamed: 0                   0\n",
              "match_event_id               0\n",
              "location_x                   0\n",
              "location_y                   0\n",
              "remaining_min                0\n",
              "power_of_shot                0\n",
              "knockout_match               0\n",
              "game_season                  0\n",
              "remaining_sec                0\n",
              "distance_of_shot             0\n",
              "is_goal                   6268\n",
              "area_of_shot                 0\n",
              "shot_basics                  0\n",
              "range_of_shot                0\n",
              "team_name                    0\n",
              "date_of_game              1550\n",
              "home/away                    0\n",
              "shot_id_number               0\n",
              "lat/lng                      0\n",
              "type_of_shot              9867\n",
              "type_of_combined_shot    15416\n",
              "match_id                     0\n",
              "team_id                      0\n",
              "dtype: int64"
            ]
          },
          "metadata": {
            "tags": []
          },
          "execution_count": 124
        }
      ]
    },
    {
      "cell_type": "code",
      "metadata": {
        "id": "8O382QLUHVID"
      },
      "source": [
        "# # if is_goal is 1, if type of shot is null then type of shot becomes equal to the value of g based on the index\n",
        "data.loc[(data.is_goal == 1)&(data.type_of_shot.isnull()), 'type_of_shot'] = g"
      ],
      "execution_count": 123,
      "outputs": []
    },
    {
      "cell_type": "code",
      "metadata": {
        "id": "2fgrgbYfHZ6P",
        "outputId": "9a6d2401-8f20-4c66-c53e-743621d4044e",
        "colab": {
          "base_uri": "https://localhost:8080/"
        }
      },
      "source": [
        "l_no_goal   = data[data.is_goal == 0].type_of_shot.value_counts().head(5).keys()     # Top five shots when it was not a goal\n",
        "p_no_sum  = data[data.is_goal == 0].type_of_shot.value_counts().head(5).sum()\n",
        "p_no_goal   = (data[data.is_goal == 0].type_of_shot.value_counts().head(5) / p_no_sum ).tolist() # There respective probablities \n",
        "ng = pd.Series(data[data.is_goal == 0].type_of_shot.apply(lambda x: x if type(x)==str else np.random.choice(l_no_goal,1,p=p_no_goal)[0]))\n",
        "data.loc[(data.is_goal == 0)&(data.type_of_shot.isnull()), 'type_of_shot'] = ng \n",
        "data['type_of_shot'].isna().sum() # number of missing values got reduced to zero"
      ],
      "execution_count": 125,
      "outputs": [
        {
          "output_type": "execute_result",
          "data": {
            "text/plain": [
              "3144"
            ]
          },
          "metadata": {
            "tags": []
          },
          "execution_count": 125
        }
      ]
    },
    {
      "cell_type": "code",
      "metadata": {
        "id": "t1W3GsU_H38U",
        "outputId": "ac3fbff0-ef56-4acd-8142-640f3c9e1f0c",
        "colab": {
          "base_uri": "https://localhost:8080/"
        }
      },
      "source": [
        "data.type_of_shot.unique()"
      ],
      "execution_count": 127,
      "outputs": [
        {
          "output_type": "execute_result",
          "data": {
            "text/plain": [
              "array(['shot - 30', 'shot - 45', 'shot - 25', 'shot - 39', 'shot - 38',\n",
              "       'shot - 17', nan, 'shot - 36', 'shot - 44', 'shot - 7',\n",
              "       'shot - 15', 'shot - 12', 'shot - 6', 'shot - 4', 'shot - 20',\n",
              "       'shot - 24', 'shot - 54', 'shot - 42', 'shot - 34', 'shot - 1',\n",
              "       'shot - 37', 'shot - 14', 'shot - 21', 'shot - 9', 'shot - 0',\n",
              "       'shot - 2', 'shot - 22', 'shot - 10', 'shot - 49', 'shot - 51',\n",
              "       'shot - 52', 'shot - 46', 'shot - 32', 'shot - 11', 'shot - 56',\n",
              "       'shot - 47', 'shot - 3', 'shot - 53', 'shot - 5', 'shot - 41',\n",
              "       'shot - 40', 'shot - 19', 'shot - 16', 'shot - 55', 'shot - 23',\n",
              "       'shot - 43', 'shot - 29', 'shot - 35', 'shot - 31', 'shot - 13',\n",
              "       'shot - 26', 'shot - 28', 'shot - 33', 'shot - 50', 'shot - 8',\n",
              "       'shot - 48', 'shot - 18', 'shot - 27'], dtype=object)"
            ]
          },
          "metadata": {
            "tags": []
          },
          "execution_count": 127
        }
      ]
    },
    {
      "cell_type": "code",
      "metadata": {
        "id": "QsLXF9FmIJuZ"
      },
      "source": [
        "data.loc[data['type_of_shot'].isnull(), 'type_of_shot'] = pd.Series(data.loc[data['type_of_shot'].isnull(), 'type_of_shot'].apply(lambda x: x if type(x)==str else np.random.choice(['shot - 39', 'shot - 36', 'shot - 4'],1,p=[0.37377133988618727, 0.33419555095706155, 0.2920331091567512])[0])) \n"
      ],
      "execution_count": 128,
      "outputs": []
    },
    {
      "cell_type": "code",
      "metadata": {
        "id": "07RbLze3IRJE",
        "outputId": "229d8163-b89f-4163-b394-661bb019c405",
        "colab": {
          "base_uri": "https://localhost:8080/"
        }
      },
      "source": [
        "data['type_of_shot'].isna().sum()"
      ],
      "execution_count": 129,
      "outputs": [
        {
          "output_type": "execute_result",
          "data": {
            "text/plain": [
              "0"
            ]
          },
          "metadata": {
            "tags": []
          },
          "execution_count": 129
        }
      ]
    },
    {
      "cell_type": "code",
      "metadata": {
        "id": "JjrjCFmlIj-a",
        "outputId": "b9494b38-0e57-43b6-e54a-dccb4b1c81f4",
        "colab": {
          "base_uri": "https://localhost:8080/"
        }
      },
      "source": [
        "data.type_of_combined_shot.unique()"
      ],
      "execution_count": 132,
      "outputs": [
        {
          "output_type": "execute_result",
          "data": {
            "text/plain": [
              "array(['shot - 3', nan, 'shot - 1', 'shot - 4', 'shot - 5', 'shot - 2',\n",
              "       'shot - 0'], dtype=object)"
            ]
          },
          "metadata": {
            "tags": []
          },
          "execution_count": 132
        }
      ]
    },
    {
      "cell_type": "code",
      "metadata": {
        "id": "RIQh32PvI-NM",
        "outputId": "75d43a60-96c3-4164-ba23-059ba92e59e6",
        "colab": {
          "base_uri": "https://localhost:8080/"
        }
      },
      "source": [
        "mm=data.type_of_combined_shot.mode()\n",
        "mm"
      ],
      "execution_count": 134,
      "outputs": [
        {
          "output_type": "execute_result",
          "data": {
            "text/plain": [
              "0    shot - 3\n",
              "dtype: object"
            ]
          },
          "metadata": {
            "tags": []
          },
          "execution_count": 134
        }
      ]
    },
    {
      "cell_type": "code",
      "metadata": {
        "id": "QAqS8qg_I_-7"
      },
      "source": [
        "data['type_of_combined_shot']=data['type_of_combined_shot'].fillna(value=mm)"
      ],
      "execution_count": 135,
      "outputs": []
    },
    {
      "cell_type": "code",
      "metadata": {
        "id": "RKMcoGVQJS29",
        "outputId": "9db1e64f-0097-45e7-c618-457bf015c3a7",
        "colab": {
          "base_uri": "https://localhost:8080/"
        }
      },
      "source": [
        "data.isnull().sum()"
      ],
      "execution_count": 141,
      "outputs": [
        {
          "output_type": "execute_result",
          "data": {
            "text/plain": [
              "Unnamed: 0                   0\n",
              "match_event_id               0\n",
              "location_x                   0\n",
              "location_y                   0\n",
              "remaining_min                0\n",
              "power_of_shot                0\n",
              "knockout_match               0\n",
              "game_season                  0\n",
              "remaining_sec                0\n",
              "distance_of_shot             0\n",
              "is_goal                   6268\n",
              "area_of_shot                 0\n",
              "shot_basics                  0\n",
              "range_of_shot                0\n",
              "team_name                    0\n",
              "date_of_game              1550\n",
              "home/away                    0\n",
              "shot_id_number               0\n",
              "lat/lng                      0\n",
              "type_of_shot                 0\n",
              "type_of_combined_shot    15416\n",
              "match_id                     0\n",
              "team_id                      0\n",
              "dtype: int64"
            ]
          },
          "metadata": {
            "tags": []
          },
          "execution_count": 141
        }
      ]
    },
    {
      "cell_type": "code",
      "metadata": {
        "id": "TxoyodIDJwof"
      },
      "source": [
        "data=data.drop(['type_of_combined_shot'],axis=1)"
      ],
      "execution_count": 142,
      "outputs": []
    },
    {
      "cell_type": "code",
      "metadata": {
        "id": "e1O4Q0mzJ2Zy",
        "outputId": "367224ac-b3d0-403d-915b-b3d7c1da5f2f",
        "colab": {
          "base_uri": "https://localhost:8080/"
        }
      },
      "source": [
        "data.date_of_game.isna().sum()"
      ],
      "execution_count": 146,
      "outputs": [
        {
          "output_type": "execute_result",
          "data": {
            "text/plain": [
              "1550"
            ]
          },
          "metadata": {
            "tags": []
          },
          "execution_count": 146
        }
      ]
    },
    {
      "cell_type": "code",
      "metadata": {
        "id": "iLAl-MtfKqml"
      },
      "source": [
        "data=data.drop(['date_of_game'],axis=1)"
      ],
      "execution_count": 147,
      "outputs": []
    },
    {
      "cell_type": "code",
      "metadata": {
        "id": "mT-wh8k5KwPv",
        "outputId": "dbfbc7b0-05fb-45ae-f218-b6c9e6eb4cc8",
        "colab": {
          "base_uri": "https://localhost:8080/"
        }
      },
      "source": [
        "data.isnull().sum()"
      ],
      "execution_count": 167,
      "outputs": [
        {
          "output_type": "execute_result",
          "data": {
            "text/plain": [
              "match_event_id         0\n",
              "location_x             0\n",
              "location_y             0\n",
              "remaining_min          0\n",
              "power_of_shot          0\n",
              "knockout_match         0\n",
              "game_season            0\n",
              "remaining_sec          0\n",
              "distance_of_shot       0\n",
              "is_goal             6268\n",
              "area_of_shot           0\n",
              "shot_basics            0\n",
              "range_of_shot          0\n",
              "team_name              0\n",
              "home/away              0\n",
              "shot_id_number         0\n",
              "lat/lng                0\n",
              "type_of_shot           0\n",
              "match_id               0\n",
              "team_id                0\n",
              "dtype: int64"
            ]
          },
          "metadata": {
            "tags": []
          },
          "execution_count": 167
        }
      ]
    },
    {
      "cell_type": "code",
      "metadata": {
        "id": "e_Hq9L68NlKe",
        "outputId": "13a92b91-5a46-488e-8690-92a6448d311c",
        "colab": {
          "base_uri": "https://localhost:8080/"
        }
      },
      "source": [
        "#data one hot encoding of object type data set\n",
        "data.info()"
      ],
      "execution_count": 168,
      "outputs": [
        {
          "output_type": "stream",
          "text": [
            "<class 'pandas.core.frame.DataFrame'>\n",
            "RangeIndex: 30697 entries, 0 to 30696\n",
            "Data columns (total 20 columns):\n",
            " #   Column            Non-Null Count  Dtype  \n",
            "---  ------            --------------  -----  \n",
            " 0   match_event_id    30697 non-null  float64\n",
            " 1   location_x        30697 non-null  float64\n",
            " 2   location_y        30697 non-null  float64\n",
            " 3   remaining_min     30697 non-null  float64\n",
            " 4   power_of_shot     30697 non-null  float64\n",
            " 5   knockout_match    30697 non-null  float64\n",
            " 6   game_season       30697 non-null  int64  \n",
            " 7   remaining_sec     30697 non-null  float64\n",
            " 8   distance_of_shot  30697 non-null  float64\n",
            " 9   is_goal           24429 non-null  float64\n",
            " 10  area_of_shot      30697 non-null  object \n",
            " 11  shot_basics       30697 non-null  object \n",
            " 12  range_of_shot     30697 non-null  object \n",
            " 13  team_name         30697 non-null  object \n",
            " 14  home/away         30697 non-null  object \n",
            " 15  shot_id_number    30697 non-null  int64  \n",
            " 16  lat/lng           30697 non-null  object \n",
            " 17  type_of_shot      30697 non-null  object \n",
            " 18  match_id          30697 non-null  int64  \n",
            " 19  team_id           30697 non-null  int64  \n",
            "dtypes: float64(9), int64(4), object(7)\n",
            "memory usage: 4.7+ MB\n"
          ],
          "name": "stdout"
        }
      ]
    },
    {
      "cell_type": "code",
      "metadata": {
        "id": "yeR6x6qbNsWd"
      },
      "source": [
        "for col in data.columns:\n",
        "  if (data[col].dtypes==object):\n",
        "    l_uniq=data[col].unique()\n",
        "    v_uniq=np.arange(len(l_uniq))\n",
        "    data[col].replace(to_replace=l_uniq,value=v_uniq,inplace=True)\n",
        "    data[col]=data[col].astype('int')"
      ],
      "execution_count": 174,
      "outputs": []
    },
    {
      "cell_type": "code",
      "metadata": {
        "id": "4JRje0CCPQFU",
        "outputId": "e0f77a27-4700-4b31-e4ea-04ec41cb6a0f",
        "colab": {
          "base_uri": "https://localhost:8080/"
        }
      },
      "source": [
        "data.info()"
      ],
      "execution_count": 175,
      "outputs": [
        {
          "output_type": "stream",
          "text": [
            "<class 'pandas.core.frame.DataFrame'>\n",
            "RangeIndex: 30697 entries, 0 to 30696\n",
            "Data columns (total 20 columns):\n",
            " #   Column            Non-Null Count  Dtype  \n",
            "---  ------            --------------  -----  \n",
            " 0   match_event_id    30697 non-null  float64\n",
            " 1   location_x        30697 non-null  float64\n",
            " 2   location_y        30697 non-null  float64\n",
            " 3   remaining_min     30697 non-null  float64\n",
            " 4   power_of_shot     30697 non-null  float64\n",
            " 5   knockout_match    30697 non-null  float64\n",
            " 6   game_season       30697 non-null  int64  \n",
            " 7   remaining_sec     30697 non-null  float64\n",
            " 8   distance_of_shot  30697 non-null  float64\n",
            " 9   is_goal           24429 non-null  float64\n",
            " 10  area_of_shot      30697 non-null  int64  \n",
            " 11  shot_basics       30697 non-null  int64  \n",
            " 12  range_of_shot     30697 non-null  int64  \n",
            " 13  team_name         30697 non-null  int64  \n",
            " 14  home/away         30697 non-null  int64  \n",
            " 15  shot_id_number    30697 non-null  int64  \n",
            " 16  lat/lng           30697 non-null  int64  \n",
            " 17  type_of_shot      30697 non-null  int64  \n",
            " 18  match_id          30697 non-null  int64  \n",
            " 19  team_id           30697 non-null  int64  \n",
            "dtypes: float64(9), int64(11)\n",
            "memory usage: 4.7 MB\n"
          ],
          "name": "stdout"
        }
      ]
    },
    {
      "cell_type": "code",
      "metadata": {
        "id": "AqRX8YFgKzRM"
      },
      "source": [
        "#train test spilt on the basis of target column\n",
        "train=data[data.is_goal.notnull()]"
      ],
      "execution_count": 176,
      "outputs": []
    },
    {
      "cell_type": "code",
      "metadata": {
        "id": "tlpRMxXCLpBg"
      },
      "source": [
        "train=train.set_index(np.arange(train.shape[0]))"
      ],
      "execution_count": 177,
      "outputs": []
    },
    {
      "cell_type": "code",
      "metadata": {
        "id": "IDUievPBHVhm",
        "outputId": "a17edc30-e2a8-4936-900a-e403bffcfd65",
        "colab": {
          "base_uri": "https://localhost:8080/",
          "height": 224
        }
      },
      "source": [
        "train.head( )"
      ],
      "execution_count": 178,
      "outputs": [
        {
          "output_type": "execute_result",
          "data": {
            "text/html": [
              "<div>\n",
              "<style scoped>\n",
              "    .dataframe tbody tr th:only-of-type {\n",
              "        vertical-align: middle;\n",
              "    }\n",
              "\n",
              "    .dataframe tbody tr th {\n",
              "        vertical-align: top;\n",
              "    }\n",
              "\n",
              "    .dataframe thead th {\n",
              "        text-align: right;\n",
              "    }\n",
              "</style>\n",
              "<table border=\"1\" class=\"dataframe\">\n",
              "  <thead>\n",
              "    <tr style=\"text-align: right;\">\n",
              "      <th></th>\n",
              "      <th>match_event_id</th>\n",
              "      <th>location_x</th>\n",
              "      <th>location_y</th>\n",
              "      <th>remaining_min</th>\n",
              "      <th>power_of_shot</th>\n",
              "      <th>knockout_match</th>\n",
              "      <th>game_season</th>\n",
              "      <th>remaining_sec</th>\n",
              "      <th>distance_of_shot</th>\n",
              "      <th>is_goal</th>\n",
              "      <th>area_of_shot</th>\n",
              "      <th>shot_basics</th>\n",
              "      <th>range_of_shot</th>\n",
              "      <th>team_name</th>\n",
              "      <th>home/away</th>\n",
              "      <th>shot_id_number</th>\n",
              "      <th>lat/lng</th>\n",
              "      <th>type_of_shot</th>\n",
              "      <th>match_id</th>\n",
              "      <th>team_id</th>\n",
              "    </tr>\n",
              "  </thead>\n",
              "  <tbody>\n",
              "    <tr>\n",
              "      <th>0</th>\n",
              "      <td>12.0</td>\n",
              "      <td>-157.0</td>\n",
              "      <td>0.0</td>\n",
              "      <td>10.0</td>\n",
              "      <td>1.0</td>\n",
              "      <td>0.0</td>\n",
              "      <td>0</td>\n",
              "      <td>22.0</td>\n",
              "      <td>35.0</td>\n",
              "      <td>0.0</td>\n",
              "      <td>1</td>\n",
              "      <td>0</td>\n",
              "      <td>1</td>\n",
              "      <td>0</td>\n",
              "      <td>0</td>\n",
              "      <td>2</td>\n",
              "      <td>0</td>\n",
              "      <td>1</td>\n",
              "      <td>20000012</td>\n",
              "      <td>1610612747</td>\n",
              "    </tr>\n",
              "    <tr>\n",
              "      <th>1</th>\n",
              "      <td>35.0</td>\n",
              "      <td>-101.0</td>\n",
              "      <td>135.0</td>\n",
              "      <td>7.0</td>\n",
              "      <td>1.0</td>\n",
              "      <td>0.0</td>\n",
              "      <td>0</td>\n",
              "      <td>45.0</td>\n",
              "      <td>36.0</td>\n",
              "      <td>1.0</td>\n",
              "      <td>2</td>\n",
              "      <td>0</td>\n",
              "      <td>0</td>\n",
              "      <td>0</td>\n",
              "      <td>0</td>\n",
              "      <td>3</td>\n",
              "      <td>0</td>\n",
              "      <td>2</td>\n",
              "      <td>20000012</td>\n",
              "      <td>1610612747</td>\n",
              "    </tr>\n",
              "    <tr>\n",
              "      <th>2</th>\n",
              "      <td>43.0</td>\n",
              "      <td>138.0</td>\n",
              "      <td>175.0</td>\n",
              "      <td>6.0</td>\n",
              "      <td>1.0</td>\n",
              "      <td>0.0</td>\n",
              "      <td>0</td>\n",
              "      <td>52.0</td>\n",
              "      <td>42.0</td>\n",
              "      <td>0.0</td>\n",
              "      <td>3</td>\n",
              "      <td>0</td>\n",
              "      <td>0</td>\n",
              "      <td>0</td>\n",
              "      <td>0</td>\n",
              "      <td>4</td>\n",
              "      <td>0</td>\n",
              "      <td>3</td>\n",
              "      <td>20000012</td>\n",
              "      <td>1610612747</td>\n",
              "    </tr>\n",
              "    <tr>\n",
              "      <th>3</th>\n",
              "      <td>155.0</td>\n",
              "      <td>0.0</td>\n",
              "      <td>0.0</td>\n",
              "      <td>6.0</td>\n",
              "      <td>2.0</td>\n",
              "      <td>0.0</td>\n",
              "      <td>0</td>\n",
              "      <td>19.0</td>\n",
              "      <td>20.0</td>\n",
              "      <td>1.0</td>\n",
              "      <td>4</td>\n",
              "      <td>1</td>\n",
              "      <td>2</td>\n",
              "      <td>0</td>\n",
              "      <td>0</td>\n",
              "      <td>5</td>\n",
              "      <td>0</td>\n",
              "      <td>4</td>\n",
              "      <td>20000012</td>\n",
              "      <td>1610612747</td>\n",
              "    </tr>\n",
              "    <tr>\n",
              "      <th>4</th>\n",
              "      <td>244.0</td>\n",
              "      <td>-145.0</td>\n",
              "      <td>-11.0</td>\n",
              "      <td>9.0</td>\n",
              "      <td>3.0</td>\n",
              "      <td>0.0</td>\n",
              "      <td>1</td>\n",
              "      <td>32.0</td>\n",
              "      <td>34.0</td>\n",
              "      <td>0.0</td>\n",
              "      <td>1</td>\n",
              "      <td>0</td>\n",
              "      <td>1</td>\n",
              "      <td>0</td>\n",
              "      <td>0</td>\n",
              "      <td>6</td>\n",
              "      <td>0</td>\n",
              "      <td>5</td>\n",
              "      <td>20000012</td>\n",
              "      <td>1610612747</td>\n",
              "    </tr>\n",
              "  </tbody>\n",
              "</table>\n",
              "</div>"
            ],
            "text/plain": [
              "   match_event_id  location_x  location_y  ...  type_of_shot  match_id     team_id\n",
              "0            12.0      -157.0         0.0  ...             1  20000012  1610612747\n",
              "1            35.0      -101.0       135.0  ...             2  20000012  1610612747\n",
              "2            43.0       138.0       175.0  ...             3  20000012  1610612747\n",
              "3           155.0         0.0         0.0  ...             4  20000012  1610612747\n",
              "4           244.0      -145.0       -11.0  ...             5  20000012  1610612747\n",
              "\n",
              "[5 rows x 20 columns]"
            ]
          },
          "metadata": {
            "tags": []
          },
          "execution_count": 178
        }
      ]
    },
    {
      "cell_type": "code",
      "metadata": {
        "id": "9xRQNNTFMQBb"
      },
      "source": [
        "test=data[data.is_goal.isnull()]"
      ],
      "execution_count": 179,
      "outputs": []
    },
    {
      "cell_type": "code",
      "metadata": {
        "id": "7hqyXXUOMZSb"
      },
      "source": [
        "test=test.set_index(np.arange(test.shape[0]))"
      ],
      "execution_count": 180,
      "outputs": []
    },
    {
      "cell_type": "code",
      "metadata": {
        "id": "wYv1OJp7Mjy4",
        "outputId": "42e52b87-81c1-4a08-faf3-0e40bed5a642",
        "colab": {
          "base_uri": "https://localhost:8080/",
          "height": 224
        }
      },
      "source": [
        "test.head()"
      ],
      "execution_count": 181,
      "outputs": [
        {
          "output_type": "execute_result",
          "data": {
            "text/html": [
              "<div>\n",
              "<style scoped>\n",
              "    .dataframe tbody tr th:only-of-type {\n",
              "        vertical-align: middle;\n",
              "    }\n",
              "\n",
              "    .dataframe tbody tr th {\n",
              "        vertical-align: top;\n",
              "    }\n",
              "\n",
              "    .dataframe thead th {\n",
              "        text-align: right;\n",
              "    }\n",
              "</style>\n",
              "<table border=\"1\" class=\"dataframe\">\n",
              "  <thead>\n",
              "    <tr style=\"text-align: right;\">\n",
              "      <th></th>\n",
              "      <th>match_event_id</th>\n",
              "      <th>location_x</th>\n",
              "      <th>location_y</th>\n",
              "      <th>remaining_min</th>\n",
              "      <th>power_of_shot</th>\n",
              "      <th>knockout_match</th>\n",
              "      <th>game_season</th>\n",
              "      <th>remaining_sec</th>\n",
              "      <th>distance_of_shot</th>\n",
              "      <th>is_goal</th>\n",
              "      <th>area_of_shot</th>\n",
              "      <th>shot_basics</th>\n",
              "      <th>range_of_shot</th>\n",
              "      <th>team_name</th>\n",
              "      <th>home/away</th>\n",
              "      <th>shot_id_number</th>\n",
              "      <th>lat/lng</th>\n",
              "      <th>type_of_shot</th>\n",
              "      <th>match_id</th>\n",
              "      <th>team_id</th>\n",
              "    </tr>\n",
              "  </thead>\n",
              "  <tbody>\n",
              "    <tr>\n",
              "      <th>0</th>\n",
              "      <td>10.0</td>\n",
              "      <td>167.0</td>\n",
              "      <td>72.0</td>\n",
              "      <td>10.0</td>\n",
              "      <td>1.0</td>\n",
              "      <td>0.0</td>\n",
              "      <td>0</td>\n",
              "      <td>27.0</td>\n",
              "      <td>38.0</td>\n",
              "      <td>NaN</td>\n",
              "      <td>0</td>\n",
              "      <td>0</td>\n",
              "      <td>0</td>\n",
              "      <td>0</td>\n",
              "      <td>0</td>\n",
              "      <td>1</td>\n",
              "      <td>0</td>\n",
              "      <td>0</td>\n",
              "      <td>20000012</td>\n",
              "      <td>1610612747</td>\n",
              "    </tr>\n",
              "    <tr>\n",
              "      <th>1</th>\n",
              "      <td>254.0</td>\n",
              "      <td>1.0</td>\n",
              "      <td>28.0</td>\n",
              "      <td>8.0</td>\n",
              "      <td>3.0</td>\n",
              "      <td>0.0</td>\n",
              "      <td>0</td>\n",
              "      <td>5.0</td>\n",
              "      <td>22.0</td>\n",
              "      <td>NaN</td>\n",
              "      <td>4</td>\n",
              "      <td>1</td>\n",
              "      <td>2</td>\n",
              "      <td>0</td>\n",
              "      <td>0</td>\n",
              "      <td>8</td>\n",
              "      <td>0</td>\n",
              "      <td>6</td>\n",
              "      <td>20000012</td>\n",
              "      <td>1610612747</td>\n",
              "    </tr>\n",
              "    <tr>\n",
              "      <th>2</th>\n",
              "      <td>100.0</td>\n",
              "      <td>0.0</td>\n",
              "      <td>0.0</td>\n",
              "      <td>0.0</td>\n",
              "      <td>1.0</td>\n",
              "      <td>0.0</td>\n",
              "      <td>0</td>\n",
              "      <td>1.0</td>\n",
              "      <td>20.0</td>\n",
              "      <td>NaN</td>\n",
              "      <td>4</td>\n",
              "      <td>1</td>\n",
              "      <td>2</td>\n",
              "      <td>0</td>\n",
              "      <td>1</td>\n",
              "      <td>17</td>\n",
              "      <td>1</td>\n",
              "      <td>6</td>\n",
              "      <td>20000019</td>\n",
              "      <td>1610612747</td>\n",
              "    </tr>\n",
              "    <tr>\n",
              "      <th>3</th>\n",
              "      <td>249.0</td>\n",
              "      <td>0.0</td>\n",
              "      <td>0.0</td>\n",
              "      <td>10.0</td>\n",
              "      <td>3.0</td>\n",
              "      <td>0.0</td>\n",
              "      <td>1</td>\n",
              "      <td>46.0</td>\n",
              "      <td>20.0</td>\n",
              "      <td>NaN</td>\n",
              "      <td>4</td>\n",
              "      <td>0</td>\n",
              "      <td>2</td>\n",
              "      <td>0</td>\n",
              "      <td>1</td>\n",
              "      <td>20</td>\n",
              "      <td>1</td>\n",
              "      <td>12</td>\n",
              "      <td>20000019</td>\n",
              "      <td>1610612747</td>\n",
              "    </tr>\n",
              "    <tr>\n",
              "      <th>4</th>\n",
              "      <td>265.0</td>\n",
              "      <td>134.0</td>\n",
              "      <td>127.0</td>\n",
              "      <td>9.0</td>\n",
              "      <td>3.0</td>\n",
              "      <td>0.0</td>\n",
              "      <td>1</td>\n",
              "      <td>4.0</td>\n",
              "      <td>38.0</td>\n",
              "      <td>NaN</td>\n",
              "      <td>3</td>\n",
              "      <td>0</td>\n",
              "      <td>0</td>\n",
              "      <td>0</td>\n",
              "      <td>1</td>\n",
              "      <td>22</td>\n",
              "      <td>1</td>\n",
              "      <td>14</td>\n",
              "      <td>20000019</td>\n",
              "      <td>1610612747</td>\n",
              "    </tr>\n",
              "  </tbody>\n",
              "</table>\n",
              "</div>"
            ],
            "text/plain": [
              "   match_event_id  location_x  location_y  ...  type_of_shot  match_id     team_id\n",
              "0            10.0       167.0        72.0  ...             0  20000012  1610612747\n",
              "1           254.0         1.0        28.0  ...             6  20000012  1610612747\n",
              "2           100.0         0.0         0.0  ...             6  20000019  1610612747\n",
              "3           249.0         0.0         0.0  ...            12  20000019  1610612747\n",
              "4           265.0       134.0       127.0  ...            14  20000019  1610612747\n",
              "\n",
              "[5 rows x 20 columns]"
            ]
          },
          "metadata": {
            "tags": []
          },
          "execution_count": 181
        }
      ]
    },
    {
      "cell_type": "code",
      "metadata": {
        "id": "LeXJpwZpMoGC"
      },
      "source": [
        "#removing target column\n",
        "y_train=train['is_goal']"
      ],
      "execution_count": 182,
      "outputs": []
    },
    {
      "cell_type": "code",
      "metadata": {
        "id": "H2yOlJM0MuQ-"
      },
      "source": [
        "train=train.drop(['is_goal'],axis=1)"
      ],
      "execution_count": 183,
      "outputs": []
    },
    {
      "cell_type": "code",
      "metadata": {
        "id": "Oh3MOkbmMyDp"
      },
      "source": [
        "test=test.drop(['is_goal'],axis=1)"
      ],
      "execution_count": 184,
      "outputs": []
    },
    {
      "cell_type": "code",
      "metadata": {
        "id": "4XMXRjb7M4PX",
        "outputId": "4cd45b12-0a7c-46e2-b8d9-57f9125584ac",
        "colab": {
          "base_uri": "https://localhost:8080/"
        }
      },
      "source": [
        "test.columns"
      ],
      "execution_count": 185,
      "outputs": [
        {
          "output_type": "execute_result",
          "data": {
            "text/plain": [
              "Index(['match_event_id', 'location_x', 'location_y', 'remaining_min',\n",
              "       'power_of_shot', 'knockout_match', 'game_season', 'remaining_sec',\n",
              "       'distance_of_shot', 'area_of_shot', 'shot_basics', 'range_of_shot',\n",
              "       'team_name', 'home/away', 'shot_id_number', 'lat/lng', 'type_of_shot',\n",
              "       'match_id', 'team_id'],\n",
              "      dtype='object')"
            ]
          },
          "metadata": {
            "tags": []
          },
          "execution_count": 185
        }
      ]
    },
    {
      "cell_type": "code",
      "metadata": {
        "id": "sivfJUphM5w6",
        "outputId": "df50232c-a8c3-4b0b-d2ae-c6f761e46ecb",
        "colab": {
          "base_uri": "https://localhost:8080/"
        }
      },
      "source": [
        "train.columns"
      ],
      "execution_count": 186,
      "outputs": [
        {
          "output_type": "execute_result",
          "data": {
            "text/plain": [
              "Index(['match_event_id', 'location_x', 'location_y', 'remaining_min',\n",
              "       'power_of_shot', 'knockout_match', 'game_season', 'remaining_sec',\n",
              "       'distance_of_shot', 'area_of_shot', 'shot_basics', 'range_of_shot',\n",
              "       'team_name', 'home/away', 'shot_id_number', 'lat/lng', 'type_of_shot',\n",
              "       'match_id', 'team_id'],\n",
              "      dtype='object')"
            ]
          },
          "metadata": {
            "tags": []
          },
          "execution_count": 186
        }
      ]
    },
    {
      "cell_type": "code",
      "metadata": {
        "id": "SJ-mB12EM2JP"
      },
      "source": [
        "#algorithm\n",
        "from sklearn.ensemble import RandomForestClassifier"
      ],
      "execution_count": 189,
      "outputs": []
    },
    {
      "cell_type": "code",
      "metadata": {
        "id": "L-fIGeZlStsd",
        "outputId": "9818bc0c-5da2-4557-ee79-e2e1f21fd5dd",
        "colab": {
          "base_uri": "https://localhost:8080/"
        }
      },
      "source": [
        "train.shape"
      ],
      "execution_count": 190,
      "outputs": [
        {
          "output_type": "execute_result",
          "data": {
            "text/plain": [
              "(24429, 19)"
            ]
          },
          "metadata": {
            "tags": []
          },
          "execution_count": 190
        }
      ]
    },
    {
      "cell_type": "code",
      "metadata": {
        "id": "4G0oMDQFSuzM",
        "outputId": "63752f7b-fe94-4297-a326-fd1204d6c759",
        "colab": {
          "base_uri": "https://localhost:8080/"
        }
      },
      "source": [
        "y_train.shape"
      ],
      "execution_count": 191,
      "outputs": [
        {
          "output_type": "execute_result",
          "data": {
            "text/plain": [
              "(24429,)"
            ]
          },
          "metadata": {
            "tags": []
          },
          "execution_count": 191
        }
      ]
    },
    {
      "cell_type": "code",
      "metadata": {
        "id": "rlCsah7_Sgqe"
      },
      "source": [
        "x_train,x_test,y_train,y_test=train_test_split(train,y_train,test_size=.30)"
      ],
      "execution_count": 192,
      "outputs": []
    },
    {
      "cell_type": "code",
      "metadata": {
        "id": "kawaf3TQS2RQ",
        "outputId": "32a76604-33b8-407d-b888-127fcf93f723",
        "colab": {
          "base_uri": "https://localhost:8080/"
        }
      },
      "source": [
        "rf=RandomForestClassifier(n_estimators=500)\n",
        "rf.fit(x_train,y_train)"
      ],
      "execution_count": 198,
      "outputs": [
        {
          "output_type": "execute_result",
          "data": {
            "text/plain": [
              "RandomForestClassifier(bootstrap=True, ccp_alpha=0.0, class_weight=None,\n",
              "                       criterion='gini', max_depth=None, max_features='auto',\n",
              "                       max_leaf_nodes=None, max_samples=None,\n",
              "                       min_impurity_decrease=0.0, min_impurity_split=None,\n",
              "                       min_samples_leaf=1, min_samples_split=2,\n",
              "                       min_weight_fraction_leaf=0.0, n_estimators=500,\n",
              "                       n_jobs=None, oob_score=False, random_state=None,\n",
              "                       verbose=0, warm_start=False)"
            ]
          },
          "metadata": {
            "tags": []
          },
          "execution_count": 198
        }
      ]
    },
    {
      "cell_type": "code",
      "metadata": {
        "id": "IPt01dkiTCCB"
      },
      "source": [
        "y_pred=rf.predict(x_test)"
      ],
      "execution_count": 199,
      "outputs": []
    },
    {
      "cell_type": "code",
      "metadata": {
        "id": "fl7Q7aecTTmD"
      },
      "source": [
        "from sklearn.metrics import accuracy_score\n",
        "acc=accuracy_score(y_test,y_pred)"
      ],
      "execution_count": 200,
      "outputs": []
    },
    {
      "cell_type": "code",
      "metadata": {
        "id": "BrIWLto0TeZb",
        "outputId": "fcbd7f02-c00e-4b46-b7c5-8130e25d4dd1",
        "colab": {
          "base_uri": "https://localhost:8080/"
        }
      },
      "source": [
        "acc"
      ],
      "execution_count": 201,
      "outputs": [
        {
          "output_type": "execute_result",
          "data": {
            "text/plain": [
              "0.6441533633510711"
            ]
          },
          "metadata": {
            "tags": []
          },
          "execution_count": 201
        }
      ]
    },
    {
      "cell_type": "code",
      "metadata": {
        "id": "9A0e4bsTTPpn"
      },
      "source": [
        ""
      ],
      "execution_count": null,
      "outputs": []
    }
  ]
}